{
  "nbformat": 4,
  "nbformat_minor": 0,
  "metadata": {
    "colab": {
      "provenance": []
    },
    "kernelspec": {
      "name": "python3",
      "display_name": "Python 3"
    },
    "language_info": {
      "name": "python"
    }
  },
  "cells": [
    {
      "cell_type": "markdown",
      "source": [
        "\n",
        "Visualize Distributions With Seaborn\n",
        "\n",
        "Seaborn is a library that uses Matplotlib underneath to plot graphs. It will be used to visualize random distributions."
      ],
      "metadata": {
        "id": "6G3eWF1GUd3c"
      }
    },
    {
      "cell_type": "code",
      "execution_count": null,
      "metadata": {
        "id": "AWjH86cbURd-"
      },
      "outputs": [],
      "source": [
        "pip install seaborn"
      ]
    },
    {
      "cell_type": "markdown",
      "source": [
        "Distplots\n",
        "\n",
        "Distplot stands for distribution plot, it takes as input an array and plots a curve corresponding to the distribution of points in the array.\n",
        "\n"
      ],
      "metadata": {
        "id": "fkMbCJ4UUoDC"
      }
    },
    {
      "cell_type": "code",
      "source": [
        "import matplotlib.pyplot as plt\n",
        "import seaborn as sns"
      ],
      "metadata": {
        "id": "7owzG0zJUs1G"
      },
      "execution_count": null,
      "outputs": []
    },
    {
      "cell_type": "markdown",
      "source": [
        "We will be using: sns.distplot(arr, hist=False) to visualize random distributions in this tutorial."
      ],
      "metadata": {
        "id": "WCWmO7P9VBxJ"
      }
    },
    {
      "cell_type": "code",
      "source": [
        "import matplotlib.pyplot as plt\n",
        "import seaborn as sns\n",
        "\n",
        "sns.distplot([0, 1, 2, 3, 4, 5])\n",
        "\n",
        "plt.show()"
      ],
      "metadata": {
        "id": "TXleEGs-UwwP"
      },
      "execution_count": null,
      "outputs": []
    },
    {
      "cell_type": "markdown",
      "source": [
        "Visualization of Binomial Distribution\n",
        "\n",
        "Example\n",
        "\n",
        "Parameters:\n",
        "\n",
        "n: The number of trials.\n",
        "\n",
        "p: The probability of success on each trial."
      ],
      "metadata": {
        "id": "wdZvlskKVAfK"
      }
    },
    {
      "cell_type": "code",
      "source": [
        "from numpy import random\n",
        "import matplotlib.pyplot as plt\n",
        "import seaborn as sns\n",
        "\n",
        "sns.distplot(random.binomial(n=10, p=0.5, size=1000), hist=True, kde=False)\n",
        "\n",
        "plt.show()"
      ],
      "metadata": {
        "id": "JCVYessFVWLY"
      },
      "execution_count": null,
      "outputs": []
    },
    {
      "cell_type": "markdown",
      "source": [
        "random.binomial(n=10, p=0.5, size=1000):\n",
        "\n",
        "This generates 1000 random samples from a binomial distribution.\n",
        "\n",
        "n=10: The number of trials in each experiment.\n",
        "\n",
        "p=0.5: The probability of success in each trial.\n",
        "\n",
        "size=1000: The number of random samples to generate.\n",
        "\n",
        "hist=True: This argument ensures that a histogram is plotted.\n",
        "\n",
        "kde=False: This argument prevents the KDE from being overlaid on the histogram.\n",
        "\n",
        "the kde argument controls whether a kernel density estimate (KDE) is plotted along with the histogram."
      ],
      "metadata": {
        "id": "ZVIw6mMi97Ss"
      }
    },
    {
      "cell_type": "markdown",
      "source": [
        "Difference Between Normal and Binomial Distribution\n",
        "\n",
        "The main difference is that normal distribution is continous whereas binomial is discrete, but if there are enough data points it will be quite similar to normal distribution with certain loc and scale.\n",
        "\n",
        "Example"
      ],
      "metadata": {
        "id": "d4X-ex1BVbsH"
      }
    },
    {
      "cell_type": "code",
      "source": [
        "\n",
        "from numpy import random\n",
        "import matplotlib.pyplot as plt\n",
        "import seaborn as sns\n",
        "\n",
        "sns.distplot(random.normal(loc=50, scale=5, size=1000), hist=False, label='normal')\n",
        "sns.distplot(random.binomial(n=100, p=0.5, size=1000), hist=False, label='binomial')\n",
        "\n",
        "plt.show()"
      ],
      "metadata": {
        "id": "ESb1YRFkVdn_"
      },
      "execution_count": null,
      "outputs": []
    },
    {
      "cell_type": "markdown",
      "source": [
        "Normal Distribution:\n",
        "\n",
        " Use when dealing with continuous data that is approximately symmetric and bell-shaped.\n",
        "Binomial Distribution:\n",
        "\n",
        " Use when counting the number of successes in a fixed number of independent trials with the same probability of success.\n",
        "\n",
        " Note: In some cases, the binomial distribution can be approximated by the normal distribution if the conditions are met (n is large and p is not too close to 0 or 1). This is known as the normal approximation to the binomial distribution."
      ],
      "metadata": {
        "id": "9UUtE5YU-nhb"
      }
    },
    {
      "cell_type": "markdown",
      "source": [
        "\n",
        "Continuous Data:\n",
        "\n",
        "Measurements: Height, weight, temperature, length, time, concentration, etc.\n",
        "Scores: Test scores (e.g., IQ, SAT), exam scores, ratings (e.g., customer satisfaction).\n",
        "Errors: Measurement errors, experimental errors, random noise.\n",
        "Natural Phenomena: Many natural phenomena, such as the distribution of heights in a population.\n",
        "\n",
        "Examples:\n",
        "\n",
        "The distribution of heights in a group of people.\n",
        "\n",
        "The distribution of IQ scores in a population.\n",
        "\n",
        "The distribution of errors in a measurement process."
      ],
      "metadata": {
        "id": "ozsyaq61_KTV"
      }
    },
    {
      "cell_type": "markdown",
      "source": [
        "Binomial Distribution\n",
        "\n",
        "Discrete Data (counts):\n",
        "\n",
        "Yes/No Events: Coin flips (heads/tails), dice rolls (success/failure), quality control (defective/non-defective), survey responses (agree/disagree).\n",
        "Counting Events: Number of successes in a fixed number of trials."
      ],
      "metadata": {
        "id": "O9x5AQOR_PAs"
      }
    },
    {
      "cell_type": "markdown",
      "source": [
        "Here are the key concepts of Seaborn, along with examples and explanations:\n",
        "\n",
        "1. Relational Plots\n",
        "Relational plots are used to visualize relationships between two variables. Seaborn provides two primary functions: scatterplot() and lineplot().\n",
        "\n",
        "Examples:\n",
        "\n",
        "The number of heads in 100 coin flips.\n",
        "\n",
        "The number of defective items in a batch of 100 products.\n",
        "\n",
        "The number of people who prefer a certain brand of soda in a survey."
      ],
      "metadata": {
        "id": "wBhkxeh06CG6"
      }
    },
    {
      "cell_type": "code",
      "source": [
        "import seaborn as sns\n",
        "import matplotlib.pyplot as plt\n",
        "\n",
        "# Load an example dataset\n",
        "tips = sns.load_dataset(\"tips\")\n",
        "\n",
        "# Create a scatter plot\n",
        "sns.scatterplot(x=\"total_bill\", y=\"tip\", data=tips)\n",
        "plt.show()"
      ],
      "metadata": {
        "id": "CwhAydvt6FQL"
      },
      "execution_count": null,
      "outputs": []
    },
    {
      "cell_type": "markdown",
      "source": [
        "Explanation: The scatterplot() function shows the relationship between the total_bill and tip columns in the tips dataset. Scatter plots are great for visualizing correlation or trends."
      ],
      "metadata": {
        "id": "HuX6D2SU6bVY"
      }
    },
    {
      "cell_type": "markdown",
      "source": [
        "Example: Line Plot\n",
        "\n",
        "\n",
        "Explanation: The lineplot() function connects data points with a line, making it useful for time series data or continuous variables."
      ],
      "metadata": {
        "id": "6bupUwU96jTz"
      }
    },
    {
      "cell_type": "code",
      "source": [
        "\n",
        "sns.lineplot(x=\"total_bill\", y=\"tip\", data=tips)\n",
        "plt.show()"
      ],
      "metadata": {
        "id": "Xgz0jZaz6l6a"
      },
      "execution_count": null,
      "outputs": []
    },
    {
      "cell_type": "markdown",
      "source": [
        "2. Categorical Plots\n",
        "\n",
        "Categorical plots are used to visualize data that can be divided into categories. Seaborn provides functions like barplot(), countplot(), boxplot(), violinplot(), and stripplot().\n",
        "\n",
        "\n",
        "Explanation: The barplot() function shows the mean value of total_bill for each day in the tips dataset. Bars represent the mean, and error bars show the uncertainty."
      ],
      "metadata": {
        "id": "DurImdmf6ysK"
      }
    },
    {
      "cell_type": "code",
      "source": [
        "sns.barplot(x=\"day\", y=\"total_bill\", data=tips)\n",
        "plt.show()"
      ],
      "metadata": {
        "id": "YkI4excz64jj"
      },
      "execution_count": null,
      "outputs": []
    },
    {
      "cell_type": "markdown",
      "source": [
        "\n",
        "Explanation: The boxplot() function shows the distribution of the total_bill for each day. Box plots display the median, quartiles, and potential outliers."
      ],
      "metadata": {
        "id": "Db74_jhQ7JOj"
      }
    },
    {
      "cell_type": "markdown",
      "source": [
        "sns.boxplot(x=\"day\", y=\"total_bill\", data=tips)\n",
        "plt.show()"
      ],
      "metadata": {
        "id": "6GST-4zC7KnK"
      }
    },
    {
      "cell_type": "markdown",
      "source": [
        "3. Distribution Plots\n",
        "\n",
        "Distribution plots help to visualize the distribution of a single variable. Seaborn provides functions like distplot() (deprecated, replaced by displot()), kdeplot(), and histplot()."
      ],
      "metadata": {
        "id": "_hG6Q3fc7PKa"
      }
    },
    {
      "cell_type": "markdown",
      "source": [
        "Explanation: The histplot() function shows the distribution of the total_bill column as a histogram. The kde=True argument adds a Kernel Density Estimate (KDE) curve to show the smooth distribution."
      ],
      "metadata": {
        "id": "wZLNO4wZ7Wy6"
      }
    },
    {
      "cell_type": "code",
      "source": [
        "sns.histplot(tips[\"total_bill\"], kde=True)\n",
        "plt.show()\n"
      ],
      "metadata": {
        "id": "OOvhoetM7Yqb"
      },
      "execution_count": null,
      "outputs": []
    },
    {
      "cell_type": "markdown",
      "source": [
        "Explanation: The kdeplot() function shows the smoothed distribution of total_bill using a kernel density estimate."
      ],
      "metadata": {
        "id": "UOOuA5bd7a16"
      }
    },
    {
      "cell_type": "code",
      "source": [
        "sns.kdeplot(tips[\"total_bill\"])\n",
        "plt.show()"
      ],
      "metadata": {
        "id": "RYdJpfF87d52"
      },
      "execution_count": null,
      "outputs": []
    },
    {
      "cell_type": "markdown",
      "source": [
        "4. Matrix Plots\n",
        "Matrix plots are used to display data in a matrix format. These plots are useful for visualizing correlation matrices or any other grid-based data.\n",
        "\n",
        "Example: Heatmap\n",
        "\n",
        "Explanation: The heatmap() function visualizes the correlation matrix, where annot=True adds the correlation coefficients in each cell. The cmap argument controls the color scheme."
      ],
      "metadata": {
        "id": "i1HoK3NA7gdK"
      }
    },
    {
      "cell_type": "code",
      "source": [
        "\n",
        "corr = tips.corr()  # Compute the correlation matrix\n",
        "sns.heatmap(corr, annot=True, cmap=\"coolwarm\")\n",
        "plt.show()"
      ],
      "metadata": {
        "id": "LdzYbG3i7isz"
      },
      "execution_count": null,
      "outputs": []
    },
    {
      "cell_type": "markdown",
      "source": [
        "The pairplot() function is used to create a grid of scatter plots and histograms that show pairwise relationships between variables in a dataset.\n",
        "\n",
        "Example: Pair Plot\n",
        "\n",
        "Explanation: The pairplot() function creates a scatter plot for every pair of variables in the dataset and histograms for the diagonal plots. This is useful for quickly visualizing relationships between multiple variables."
      ],
      "metadata": {
        "id": "SWpq-BGa7os-"
      }
    },
    {
      "cell_type": "code",
      "source": [
        "\n",
        "\n",
        "sns.pairplot(tips)\n",
        "plt.show()"
      ],
      "metadata": {
        "id": "d8bCv5qo7qnz"
      },
      "execution_count": null,
      "outputs": []
    },
    {
      "cell_type": "markdown",
      "source": [
        "Facet grids allow for creating subplots based on different levels of a categorical variable. FacetGrid and catplot() are useful for visualizing complex relationships.\n",
        "\n",
        "Example: Facet Grid\n",
        "\n",
        "\n",
        "Explanation: The FacetGrid function creates subplots based on combinations of the sex and smoker categories. Each subplot contains a scatter plot of total_bill vs. tip."
      ],
      "metadata": {
        "id": "QqW40xET71PL"
      }
    },
    {
      "cell_type": "code",
      "source": [
        "\n",
        "g = sns.FacetGrid(tips, col=\"sex\", row=\"smoker\")\n",
        "g.map(sns.scatterplot, \"total_bill\", \"tip\")\n",
        "plt.show()"
      ],
      "metadata": {
        "id": "WWiYH3fM73HD"
      },
      "execution_count": null,
      "outputs": []
    },
    {
      "cell_type": "markdown",
      "source": [
        "7. Regression Plots\n",
        "Seaborn provides functions to easily visualize linear regression fits: regplot() and lmplot().\n",
        "\n",
        "Example: Regression Plot\n",
        "\n",
        "\n",
        "Explanation: The regplot() function adds a linear regression line to the scatter plot of total_bill vs. tip, showing the trend and relationship."
      ],
      "metadata": {
        "id": "Tgq4u-GZ7-1j"
      }
    },
    {
      "cell_type": "code",
      "source": [
        "\n",
        "sns.regplot(x=\"total_bill\", y=\"tip\", data=tips)\n",
        "plt.show()"
      ],
      "metadata": {
        "id": "bRX8uEti8EV4"
      },
      "execution_count": null,
      "outputs": []
    },
    {
      "cell_type": "markdown",
      "source": [
        "The jointplot() function creates a plot that combines a scatter plot with marginal histograms or KDE plots to show the relationship between two variables.\n",
        "\n",
        "Example: Joint Plot\n",
        "\n",
        "Explanation: The jointplot() function shows a scatter plot of total_bill vs. tip with histograms on the margins to display the distribution of each variable."
      ],
      "metadata": {
        "id": "k-BGBe0S8IqM"
      }
    },
    {
      "cell_type": "code",
      "source": [
        "\n",
        "sns.jointplot(x=\"total_bill\", y=\"tip\", data=tips, kind=\"scatter\")\n",
        "plt.show()"
      ],
      "metadata": {
        "id": "49-8L2uh8KNr"
      },
      "execution_count": null,
      "outputs": []
    },
    {
      "cell_type": "markdown",
      "source": [
        "The swarmplot() function shows all the points along a categorical axis, avoiding overlap by adjusting the positions of data points.\n",
        "\n",
        "Example: Swarm Plot\n",
        "\n",
        "Explanation: The swarmplot() function shows all data points, spread out to avoid overlap, allowing you to see the exact distribution of values."
      ],
      "metadata": {
        "id": "t-nG4nip8Osz"
      }
    },
    {
      "cell_type": "code",
      "source": [
        "\n",
        "sns.swarmplot(x=\"day\", y=\"total_bill\", data=tips)\n",
        "plt.show()"
      ],
      "metadata": {
        "id": "qaDrCAcJ8QEE"
      },
      "execution_count": null,
      "outputs": []
    },
    {
      "cell_type": "markdown",
      "source": [
        "Seaborn makes it easy to change the appearance of plots with functions like set_style() and set_palette().\n",
        "\n",
        "Example: Setting Style\n",
        "\n",
        "Explanation: The set_style() function changes the overall appearance of the plot. In this case, whitegrid adds a grid background."
      ],
      "metadata": {
        "id": "z3-DVvT-8TNT"
      }
    },
    {
      "cell_type": "code",
      "source": [
        "\n",
        "sns.set_style(\"whitegrid\")\n",
        "sns.boxplot(x=\"day\", y=\"total_bill\", data=tips)\n",
        "plt.show()"
      ],
      "metadata": {
        "id": "xH5lPVzx8Urb"
      },
      "execution_count": null,
      "outputs": []
    }
  ]
}