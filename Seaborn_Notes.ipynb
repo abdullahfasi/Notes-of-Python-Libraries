{
  "nbformat": 4,
  "nbformat_minor": 0,
  "metadata": {
    "colab": {
      "provenance": []
    },
    "kernelspec": {
      "name": "python3",
      "display_name": "Python 3"
    },
    "language_info": {
      "name": "python"
    }
  },
  "cells": [
    {
      "cell_type": "markdown",
      "source": [
        "\n",
        "Visualize Distributions With Seaborn\n",
        "\n",
        "Seaborn is a library that uses Matplotlib underneath to plot graphs. It will be used to visualize random distributions."
      ],
      "metadata": {
        "id": "6G3eWF1GUd3c"
      }
    },
    {
      "cell_type": "code",
      "execution_count": null,
      "metadata": {
        "id": "AWjH86cbURd-"
      },
      "outputs": [],
      "source": [
        "pip install seaborn\n",
        "!pip install seaborn"
      ]
    },
    {
      "cell_type": "markdown",
      "source": [
        "Distplots\n",
        "\n",
        "Distplot stands for distribution plot, it takes as input an array and plots a curve corresponding to the distribution of points in the array.\n",
        "\n"
      ],
      "metadata": {
        "id": "fkMbCJ4UUoDC"
      }
    },
    {
      "cell_type": "code",
      "source": [
        "import matplotlib.pyplot as plt\n",
        "import seaborn as sns"
      ],
      "metadata": {
        "id": "7owzG0zJUs1G"
      },
      "execution_count": null,
      "outputs": []
    },
    {
      "cell_type": "markdown",
      "source": [
        "We will be using: sns.distplot(arr, hist=False) to visualize random distributions in this tutorial."
      ],
      "metadata": {
        "id": "WCWmO7P9VBxJ"
      }
    },
    {
      "cell_type": "code",
      "source": [
        "import matplotlib.pyplot as plt\n",
        "import seaborn as sns\n",
        "\n",
        "sns.distplot([0, 1, 2, 3, 4, 5])\n",
        "\n",
        "plt.show()"
      ],
      "metadata": {
        "id": "TXleEGs-UwwP"
      },
      "execution_count": null,
      "outputs": []
    },
    {
      "cell_type": "markdown",
      "source": [
        "Visualization of Binomial Distribution\n",
        "\n",
        "Example\n"
      ],
      "metadata": {
        "id": "wdZvlskKVAfK"
      }
    },
    {
      "cell_type": "code",
      "source": [
        "from numpy import random\n",
        "import matplotlib.pyplot as plt\n",
        "import seaborn as sns\n",
        "\n",
        "sns.distplot(random.binomial(n=10, p=0.5, size=1000), hist=True, kde=False)\n",
        "\n",
        "plt.show()"
      ],
      "metadata": {
        "id": "JCVYessFVWLY"
      },
      "execution_count": null,
      "outputs": []
    },
    {
      "cell_type": "markdown",
      "source": [
        "Difference Between Normal and Binomial Distribution\n",
        "The main difference is that normal distribution is continous whereas binomial is discrete, but if there are enough data points it will be quite similar to normal distribution with certain loc and scale.\n",
        "\n",
        "Example"
      ],
      "metadata": {
        "id": "d4X-ex1BVbsH"
      }
    },
    {
      "cell_type": "code",
      "source": [
        "\n",
        "from numpy import random\n",
        "import matplotlib.pyplot as plt\n",
        "import seaborn as sns\n",
        "\n",
        "sns.distplot(random.normal(loc=50, scale=5, size=1000), hist=False, label='normal')\n",
        "sns.distplot(random.binomial(n=100, p=0.5, size=1000), hist=False, label='binomial')\n",
        "\n",
        "plt.show()"
      ],
      "metadata": {
        "id": "ESb1YRFkVdn_"
      },
      "execution_count": null,
      "outputs": []
    }
  ]
}