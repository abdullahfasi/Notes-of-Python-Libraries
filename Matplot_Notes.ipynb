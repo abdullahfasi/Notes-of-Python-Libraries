{
  "nbformat": 4,
  "nbformat_minor": 0,
  "metadata": {
    "colab": {
      "provenance": []
    },
    "kernelspec": {
      "name": "python3",
      "display_name": "Python 3"
    },
    "language_info": {
      "name": "python"
    }
  },
  "cells": [
    {
      "cell_type": "code",
      "execution_count": null,
      "metadata": {
        "id": "BWGKEF89Csmb"
      },
      "outputs": [],
      "source": [
        "\n",
        "#pip install matplotlib\n",
        "\n",
        "import matplotlib\n",
        "print(matplotlib.__version__)"
      ]
    },
    {
      "cell_type": "markdown",
      "source": [
        "**Pyplot**\n",
        "\n",
        "Most of the Matplotlib utilities lies under the pyplot submodule, and are usually imported under the plt alias:"
      ],
      "metadata": {
        "id": "AuEJJoVdLBXX"
      }
    },
    {
      "cell_type": "code",
      "source": [
        "import matplotlib.pyplot as plt"
      ],
      "metadata": {
        "id": "B5_JGjqKLHen"
      },
      "execution_count": null,
      "outputs": []
    },
    {
      "cell_type": "markdown",
      "source": [
        "The plot() function is used to draw points (markers) in a diagram.\n",
        "\n",
        "By default, the plot() function draws a line from point to point.\n",
        "\n",
        "The function takes parameters for specifying points in the diagram.\n",
        "\n",
        "Parameter 1 is an array containing the points on the x-axis.\n",
        "\n",
        "Parameter 2 is an array containing the points on the y-axis.\n",
        "\n",
        "If we need to plot a line from (1, 3) to (8, 10), we have to pass two arrays [1, 8] and [3, 10] to the plot"
      ],
      "metadata": {
        "id": "qDjwi9KsLg4T"
      }
    },
    {
      "cell_type": "code",
      "source": [
        "import matplotlib.pyplot as plt\n",
        "import numpy as np\n",
        "\n",
        "xpoints = np.array([0, 6])\n",
        "ypoints = np.array([0, 250])\n",
        "\n",
        "plt.plot(xpoints, ypoints)\n",
        "plt.show()"
      ],
      "metadata": {
        "id": "ONFuvSHjLL4P"
      },
      "execution_count": null,
      "outputs": []
    },
    {
      "cell_type": "markdown",
      "source": [
        "**Plotting Without Line**\n",
        "\n",
        "To plot only the markers, you can use shortcut string notation parameter 'o', which means 'rings'."
      ],
      "metadata": {
        "id": "gojAb4KwLvm7"
      }
    },
    {
      "cell_type": "code",
      "source": [
        "import matplotlib.pyplot as plt\n",
        "import numpy as np\n",
        "\n",
        "xpoints = np.array([1, 8])\n",
        "ypoints = np.array([3, 10])\n",
        "\n",
        "plt.plot(xpoints, ypoints, 'o')\n",
        "plt.show()"
      ],
      "metadata": {
        "id": "Dt2Zx5PZLsoX"
      },
      "execution_count": null,
      "outputs": []
    },
    {
      "cell_type": "markdown",
      "source": [
        "Multiple Points\n",
        "You can plot as many points as you like, just make sure you have the same number of points in both axis.\n",
        "\n",
        "Example\n",
        "Draw a line in a diagram from position (1, 3) to (2, 8) then to (6, 1) and finally to position (8, 10):\n",
        "\n"
      ],
      "metadata": {
        "id": "ud0jrAqLL-1S"
      }
    },
    {
      "cell_type": "code",
      "source": [
        "import matplotlib.pyplot as plt\n",
        "import numpy as np\n",
        "\n",
        "xpoints = np.array([1, 2, 6, 8])\n",
        "ypoints = np.array([3, 8, 1, 10])\n",
        "\n",
        "plt.plot(xpoints, ypoints)\n",
        "plt.show()"
      ],
      "metadata": {
        "id": "8FDilCAGMASi"
      },
      "execution_count": null,
      "outputs": []
    },
    {
      "cell_type": "markdown",
      "source": [
        "If we do not specify the points on the x-axis, they will get the default values 0, 1, 2, 3 etc., depending on the length of the y-points.\n",
        "\n",
        "So, if we take the same example as above, and leave out the x-points, the diagram will look like this:"
      ],
      "metadata": {
        "id": "4PAfzve4MF4A"
      }
    },
    {
      "cell_type": "code",
      "source": [
        "import matplotlib.pyplot as plt\n",
        "import numpy as np\n",
        "\n",
        "ypoints = np.array([3, 8, 1, 10, 5, 7])\n",
        "\n",
        "plt.plot(ypoints)\n",
        "plt.show()"
      ],
      "metadata": {
        "id": "g0b9smGRMICA"
      },
      "execution_count": null,
      "outputs": []
    },
    {
      "cell_type": "markdown",
      "source": [
        "**Markers**\n",
        "\n",
        "You can use the keyword argument marker to emphasize each point with a specified marker:\n",
        "\n",
        "\n",
        "plt.plot(ypoints, marker = '*')\n",
        "..."
      ],
      "metadata": {
        "id": "ykG4txolMSGh"
      }
    },
    {
      "cell_type": "code",
      "source": [
        "import matplotlib.pyplot as plt\n",
        "import numpy as np\n",
        "\n",
        "ypoints = np.array([3, 8, 1, 10])\n",
        "\n",
        "plt.plot(ypoints, marker = 'o')\n",
        "plt.show()"
      ],
      "metadata": {
        "id": "LeqwoEYzMVev"
      },
      "execution_count": null,
      "outputs": []
    },
    {
      "cell_type": "markdown",
      "source": [
        "Format Strings fmt\n",
        "\n",
        "You can also use the shortcut string notation parameter to specify the marker.\n",
        "\n",
        "This parameter is also called fmt, and is written with this syntax:\n",
        "\n",
        "marker|line|color"
      ],
      "metadata": {
        "id": "4WaUoYspM2Wf"
      }
    },
    {
      "cell_type": "code",
      "source": [
        "import matplotlib.pyplot as plt\n",
        "import numpy as np\n",
        "\n",
        "ypoints = np.array([3, 8, 1, 10])\n",
        "\n",
        "plt.plot(ypoints, 'o:r')\n",
        "plt.show()"
      ],
      "metadata": {
        "id": "BLPEskDQMycw"
      },
      "execution_count": null,
      "outputs": []
    },
    {
      "cell_type": "markdown",
      "source": [
        "**Marker Size**\n",
        "\n",
        "You can use the keyword argument markersize or the shorter version, ms to set the size of the markers"
      ],
      "metadata": {
        "id": "KO1Bmp3bNDWW"
      }
    },
    {
      "cell_type": "code",
      "source": [
        "import matplotlib.pyplot as plt\n",
        "import numpy as np\n",
        "\n",
        "ypoints = np.array([3, 8, 1, 10])\n",
        "\n",
        "plt.plot(ypoints, marker = 'o', ms = 20)\n",
        "plt.show()"
      ],
      "metadata": {
        "id": "mN7ygLL6NHVZ"
      },
      "execution_count": null,
      "outputs": []
    },
    {
      "cell_type": "markdown",
      "source": [
        "Marker Color\n",
        "\n",
        "You can use the keyword argument markeredgecolor or the shorter mec to set the color of the edge of the markers:"
      ],
      "metadata": {
        "id": "ejC5gT9oNQrH"
      }
    },
    {
      "cell_type": "code",
      "source": [
        "import matplotlib.pyplot as plt\n",
        "import numpy as np\n",
        "\n",
        "ypoints = np.array([3, 8, 1, 10])\n",
        "\n",
        "plt.plot(ypoints, marker = 'o', ms = 20, mec = 'r')\n",
        "plt.show()"
      ],
      "metadata": {
        "id": "ZZGekfkANUG3"
      },
      "execution_count": null,
      "outputs": []
    },
    {
      "cell_type": "markdown",
      "source": [
        "You can use the keyword argument markerfacecolor or the shorter mfc to set the color inside the edge of the markers:"
      ],
      "metadata": {
        "id": "Df0mqHaMNYZ0"
      }
    },
    {
      "cell_type": "code",
      "source": [
        "#Set the FACE color to red:\n",
        "import matplotlib.pyplot as plt\n",
        "import numpy as np\n",
        "\n",
        "ypoints = np.array([3, 8, 1, 10])\n",
        "\n",
        "plt.plot(ypoints, marker = 'o', ms = 20, mfc = 'r')\n",
        "plt.show()"
      ],
      "metadata": {
        "id": "f_AaARHMNa32"
      },
      "execution_count": null,
      "outputs": []
    },
    {
      "cell_type": "code",
      "source": [
        "#Set the color of both the edge and the face to red:\n",
        "\n",
        "import matplotlib.pyplot as plt\n",
        "import numpy as np\n",
        "\n",
        "ypoints = np.array([3, 8, 1, 10])\n",
        "\n",
        "plt.plot(ypoints, marker = 'o', ms = 20, mec = 'r', mfc = 'r')\n",
        "plt.show()"
      ],
      "metadata": {
        "id": "ZqBRoR1FNkxu"
      },
      "execution_count": null,
      "outputs": []
    },
    {
      "cell_type": "markdown",
      "source": [
        "**Linestyle**\n",
        "\n",
        "You can use the keyword argument linestyle, or shorter ls, to change the style of the plotted line:"
      ],
      "metadata": {
        "id": "bwDOLbfnNwzv"
      }
    },
    {
      "cell_type": "code",
      "source": [
        "import matplotlib.pyplot as plt\n",
        "import numpy as np\n",
        "\n",
        "ypoints = np.array([3, 8, 1, 10])\n",
        "\n",
        "plt.plot(ypoints, linestyle = 'dotted')\n",
        "plt.show()"
      ],
      "metadata": {
        "id": "gryP6HD4N0jG"
      },
      "execution_count": null,
      "outputs": []
    },
    {
      "cell_type": "code",
      "source": [
        "#Use a dashed line:\n",
        "\n",
        "\n",
        "plt.plot(ypoints, linestyle = 'dashed')"
      ],
      "metadata": {
        "id": "2gqUM4b6N5Ax"
      },
      "execution_count": null,
      "outputs": []
    },
    {
      "cell_type": "markdown",
      "source": [
        "You can use the keyword argument color or the shorter c to set the color of the line:\n",
        "\n",
        "Example\n",
        "Set the line color to red:\n"
      ],
      "metadata": {
        "id": "KHGZTRW9OET5"
      }
    },
    {
      "cell_type": "code",
      "source": [
        "\n",
        "import matplotlib.pyplot as plt\n",
        "import numpy as np\n",
        "\n",
        "ypoints = np.array([3, 8, 1, 10])\n",
        "\n",
        "plt.plot(ypoints, color = 'r')\n",
        "plt.show()"
      ],
      "metadata": {
        "id": "TOygPSzYOGHn"
      },
      "execution_count": null,
      "outputs": []
    },
    {
      "cell_type": "markdown",
      "source": [
        "Line Width\n",
        "You can use the keyword argument linewidth or the shorter lw to change the width of the line.\n",
        "\n",
        "The value is a floating number, in points:\n",
        "\n",
        "Example\n",
        "Plot with a 20.5pt wide line:\n"
      ],
      "metadata": {
        "id": "xo-bAnfAOLwW"
      }
    },
    {
      "cell_type": "code",
      "source": [
        "\n",
        "import matplotlib.pyplot as plt\n",
        "import numpy as np\n",
        "\n",
        "ypoints = np.array([3, 8, 1, 10])\n",
        "\n",
        "plt.plot(ypoints, linewidth = '20.5')\n",
        "plt.show()"
      ],
      "metadata": {
        "id": "yvv-9gaeONY2"
      },
      "execution_count": null,
      "outputs": []
    },
    {
      "cell_type": "markdown",
      "source": [
        "You can also plot many lines by adding the points for the x- and y-axis for each line in the same plt.plot() function.\n",
        "\n",
        "(In the examples above we only specified the points on the y-axis, meaning that the points on the x-axis got the the default values (0, 1, 2, 3).)\n",
        "\n",
        "The x- and y- values come in pairs:\n",
        "\n",
        "Example\n",
        "Draw two lines by specifiyng the x- and y-point values for both lines:"
      ],
      "metadata": {
        "id": "zF6S6TvOOYV1"
      }
    },
    {
      "cell_type": "code",
      "source": [
        "import matplotlib.pyplot as plt\n",
        "import numpy as np\n",
        "\n",
        "x1 = np.array([0, 1, 2, 3])\n",
        "y1 = np.array([3, 8, 1, 10])\n",
        "x2 = np.array([0, 1, 2, 3])\n",
        "y2 = np.array([6, 2, 7, 11])\n",
        "\n",
        "plt.plot(x1, y1, x2, y2)\n",
        "plt.show()"
      ],
      "metadata": {
        "id": "z7uKK-6PObcw"
      },
      "execution_count": null,
      "outputs": []
    },
    {
      "cell_type": "markdown",
      "source": [
        "Create Labels for a Plot\n",
        "With Pyplot, you can use the xlabel() and ylabel() functions to set a label for the x- and y-axis.\n",
        "\n",
        "ExampleGet your own Python Server\n",
        "Add labels to the x- and y-axis:\n",
        "\n"
      ],
      "metadata": {
        "id": "Ake7ytccOlYp"
      }
    },
    {
      "cell_type": "code",
      "source": [
        "import numpy as np\n",
        "import matplotlib.pyplot as plt\n",
        "\n",
        "x = np.array([80, 85, 90, 95, 100, 105, 110, 115, 120, 125])\n",
        "y = np.array([240, 250, 260, 270, 280, 290, 300, 310, 320, 330])\n",
        "\n",
        "plt.plot(x, y)\n",
        "\n",
        "plt.xlabel(\"Average Pulse\")\n",
        "plt.ylabel(\"Calorie Burnage\")\n",
        "\n",
        "plt.show()"
      ],
      "metadata": {
        "id": "shXh1OkcOmsX"
      },
      "execution_count": null,
      "outputs": []
    },
    {
      "cell_type": "markdown",
      "source": [
        "Create a Title for a Plot\n",
        "With Pyplot, you can use the title() function to set a title for the plot.\n",
        "\n",
        "Example\n",
        "Add a plot title and labels for the x- and y-axis:\n",
        "\n"
      ],
      "metadata": {
        "id": "19dIiY8tOrBk"
      }
    },
    {
      "cell_type": "code",
      "source": [
        "import numpy as np\n",
        "import matplotlib.pyplot as plt\n",
        "\n",
        "x = np.array([80, 85, 90, 95, 100, 105, 110, 115, 120, 125])\n",
        "y = np.array([240, 250, 260, 270, 280, 290, 300, 310, 320, 330])\n",
        "\n",
        "plt.plot(x, y)\n",
        "\n",
        "plt.title(\"Sports Watch Data\")\n",
        "plt.xlabel(\"Average Pulse\")\n",
        "plt.ylabel(\"Calorie Burnage\")\n",
        "\n",
        "plt.show()"
      ],
      "metadata": {
        "id": "48FNcNykOscX"
      },
      "execution_count": null,
      "outputs": []
    },
    {
      "cell_type": "markdown",
      "source": [
        "Set Font Properties for Title and Labels\n",
        "You can use the fontdict parameter in xlabel(), ylabel(), and title() to set font properties for the title and labels.\n",
        "\n",
        "Example\n",
        "Set font properties for the title and labels:\n",
        "\n"
      ],
      "metadata": {
        "id": "zc3h2KveOtMg"
      }
    },
    {
      "cell_type": "code",
      "source": [
        "import numpy as np\n",
        "import matplotlib.pyplot as plt\n",
        "\n",
        "x = np.array([80, 85, 90, 95, 100, 105, 110, 115, 120, 125])\n",
        "y = np.array([240, 250, 260, 270, 280, 290, 300, 310, 320, 330])\n",
        "\n",
        "font1 = {'family':'serif','color':'blue','size':20}\n",
        "font2 = {'family':'serif','color':'darkred','size':15}\n",
        "\n",
        "plt.title(\"Sports Watch Data\", fontdict = font1)\n",
        "plt.xlabel(\"Average Pulse\", fontdict = font2)\n",
        "plt.ylabel(\"Calorie Burnage\", fontdict = font2)\n",
        "\n",
        "plt.plot(x, y)\n",
        "plt.show()"
      ],
      "metadata": {
        "id": "D5OVhLAsO-kH"
      },
      "execution_count": null,
      "outputs": []
    },
    {
      "cell_type": "markdown",
      "source": [
        "Position the Title\n",
        "\n",
        "You can use the loc parameter in title() to position the title.\n",
        "\n",
        "Legal values are: 'left', 'right', and 'center'. Default value is 'center'."
      ],
      "metadata": {
        "id": "ZK8EQRikPDN_"
      }
    },
    {
      "cell_type": "code",
      "source": [
        "import numpy as np\n",
        "import matplotlib.pyplot as plt\n",
        "\n",
        "x = np.array([80, 85, 90, 95, 100, 105, 110, 115, 120, 125])\n",
        "y = np.array([240, 250, 260, 270, 280, 290, 300, 310, 320, 330])\n",
        "\n",
        "plt.title(\"Sports Watch Data\", loc = 'left')\n",
        "plt.xlabel(\"Average Pulse\")\n",
        "plt.ylabel(\"Calorie Burnage\")\n",
        "\n",
        "plt.plot(x, y)\n",
        "plt.show()"
      ],
      "metadata": {
        "id": "0VGpaa78PGPp"
      },
      "execution_count": null,
      "outputs": []
    },
    {
      "cell_type": "markdown",
      "source": [
        "Add Grid Lines to a Plot\n",
        "With Pyplot, you can use the grid() function to add grid lines to the plot.\n",
        "\n",
        "ExampleGet your own Python Server\n",
        "Add grid lines to the plot:\n",
        "\n"
      ],
      "metadata": {
        "id": "IHooN8rZPKtX"
      }
    },
    {
      "cell_type": "code",
      "source": [
        "import numpy as np\n",
        "import matplotlib.pyplot as plt\n",
        "\n",
        "x = np.array([80, 85, 90, 95, 100, 105, 110, 115, 120, 125])\n",
        "y = np.array([240, 250, 260, 270, 280, 290, 300, 310, 320, 330])\n",
        "\n",
        "plt.title(\"Sports Watch Data\")\n",
        "plt.xlabel(\"Average Pulse\")\n",
        "plt.ylabel(\"Calorie Burnage\")\n",
        "\n",
        "plt.plot(x, y)\n",
        "\n",
        "plt.grid()\n",
        "plt.show()"
      ],
      "metadata": {
        "id": "TECWmwkyPMnf"
      },
      "execution_count": null,
      "outputs": []
    },
    {
      "cell_type": "markdown",
      "source": [
        "Specify Which Grid Lines to Display\n",
        "You can use the axis parameter in the grid() function to specify which grid lines to display.\n",
        "\n",
        "Legal values are: 'x', 'y', and 'both'. Default value is 'both'.\n",
        "\n",
        "Example\n",
        "Display only grid lines for the x-axis:\n"
      ],
      "metadata": {
        "id": "I5a3j5IRPVZ6"
      }
    },
    {
      "cell_type": "code",
      "source": [
        "\n",
        "import numpy as np\n",
        "import matplotlib.pyplot as plt\n",
        "\n",
        "x = np.array([80, 85, 90, 95, 100, 105, 110, 115, 120, 125])\n",
        "y = np.array([240, 250, 260, 270, 280, 290, 300, 310, 320, 330])\n",
        "\n",
        "plt.title(\"Sports Watch Data\")\n",
        "plt.xlabel(\"Average Pulse\")\n",
        "plt.ylabel(\"Calorie Burnage\")\n",
        "\n",
        "plt.plot(x, y)\n",
        "\n",
        "plt.grid(axis = 'x')\n",
        "\n",
        "plt.show()"
      ],
      "metadata": {
        "id": "l-7U-Ae-PXLW"
      },
      "execution_count": null,
      "outputs": []
    },
    {
      "cell_type": "code",
      "source": [
        "#Example\n",
        "#Display only grid lines for the y-axis:\n",
        "\n",
        "import numpy as np\n",
        "import matplotlib.pyplot as plt\n",
        "\n",
        "x = np.array([80, 85, 90, 95, 100, 105, 110, 115, 120, 125])\n",
        "y = np.array([240, 250, 260, 270, 280, 290, 300, 310, 320, 330])\n",
        "\n",
        "plt.title(\"Sports Watch Data\")\n",
        "plt.xlabel(\"Average Pulse\")\n",
        "plt.ylabel(\"Calorie Burnage\")\n",
        "\n",
        "plt.plot(x, y)\n",
        "\n",
        "plt.grid(axis = 'y')\n",
        "\n",
        "plt.show()"
      ],
      "metadata": {
        "id": "PYXh0MP_Paz4"
      },
      "execution_count": null,
      "outputs": []
    },
    {
      "cell_type": "code",
      "source": [
        "#Set the line properties of the grid:\n",
        "\n",
        "import numpy as np\n",
        "import matplotlib.pyplot as plt\n",
        "\n",
        "x = np.array([80, 85, 90, 95, 100, 105, 110, 115, 120, 125])\n",
        "y = np.array([240, 250, 260, 270, 280, 290, 300, 310, 320, 330])\n",
        "\n",
        "plt.title(\"Sports Watch Data\")\n",
        "plt.xlabel(\"Average Pulse\")\n",
        "plt.ylabel(\"Calorie Burnage\")\n",
        "\n",
        "plt.plot(x, y)\n",
        "\n",
        "plt.grid(color = 'green', linestyle = '--', linewidth = 0.5)\n",
        "\n",
        "plt.show()"
      ],
      "metadata": {
        "id": "_v5sM_66Phud"
      },
      "execution_count": null,
      "outputs": []
    },
    {
      "cell_type": "markdown",
      "source": [
        "Display Multiple Plots\n",
        "With the subplot() function you can draw multiple plots in one figure:\n",
        "\n",
        "ExampleGet your own Python Server\n",
        "Draw 2 plots:\n"
      ],
      "metadata": {
        "id": "C88aGk6OPtTH"
      }
    },
    {
      "cell_type": "markdown",
      "source": [
        "The subplot() function takes three arguments that describes the layout of the figure.\n",
        "\n",
        "The layout is organized in rows and columns, which are represented by the first and second argument.\n",
        "\n",
        "The third argument represents the index of the current plot.\n",
        "\n",
        "plt.subplot(1, 2, 1)\n",
        "#the figure has 1 row, 2 columns, and this plot is the first plot.\n",
        "\n",
        "plt.subplot(1, 2, 2)\n",
        "#the figure has 1 row, 2 columns, and this plot is the second plot."
      ],
      "metadata": {
        "id": "-J6E91NWP1cM"
      }
    },
    {
      "cell_type": "code",
      "source": [
        "\n",
        "import matplotlib.pyplot as plt\n",
        "import numpy as np\n",
        "\n",
        "#plot 1:\n",
        "x = np.array([0, 1, 2, 3])\n",
        "y = np.array([3, 8, 1, 10])\n",
        "\n",
        "plt.subplot(1, 2, 1)\n",
        "plt.plot(x,y)\n",
        "\n",
        "#plot 2:\n",
        "x = np.array([0, 1, 2, 3])\n",
        "y = np.array([10, 20, 30, 40])\n",
        "\n",
        "plt.subplot(1, 2, 2)\n",
        "plt.plot(x,y)\n",
        "\n",
        "plt.show()"
      ],
      "metadata": {
        "id": "_hHuM8dwPwLu"
      },
      "execution_count": null,
      "outputs": []
    },
    {
      "cell_type": "markdown",
      "source": [
        "Example\n",
        "Draw 2 plots on top of each other:\n",
        "\n",
        "So, if we want a figure with 2 rows an 1 column (meaning that the two plots will be displayed on top of each other instead of side-by-side), we can write the syntax like this:"
      ],
      "metadata": {
        "id": "1or0Ej2XQHl3"
      }
    },
    {
      "cell_type": "code",
      "source": [
        "import matplotlib.pyplot as plt\n",
        "import numpy as np\n",
        "\n",
        "#plot 1:\n",
        "x = np.array([0, 1, 2, 3])\n",
        "y = np.array([3, 8, 1, 10])\n",
        "\n",
        "plt.subplot(2, 1, 1)\n",
        "plt.plot(x,y)\n",
        "\n",
        "#plot 2:\n",
        "x = np.array([0, 1, 2, 3])\n",
        "y = np.array([10, 20, 30, 40])\n",
        "\n",
        "plt.subplot(2, 1, 2)\n",
        "plt.plot(x,y)\n",
        "\n",
        "plt.show()"
      ],
      "metadata": {
        "id": "drKb2Au9QJRI"
      },
      "execution_count": null,
      "outputs": []
    },
    {
      "cell_type": "markdown",
      "source": [
        "Super Title\n",
        "\n",
        "You can add a title to the entire figure with the suptitle() function:\n",
        "\n",
        "Example\n",
        "Add a title for the entire figure:\n"
      ],
      "metadata": {
        "id": "thtUp9eBQXXg"
      }
    },
    {
      "cell_type": "code",
      "source": [
        "\n",
        "import matplotlib.pyplot as plt\n",
        "import numpy as np\n",
        "\n",
        "#plot 1:\n",
        "x = np.array([0, 1, 2, 3])\n",
        "y = np.array([3, 8, 1, 10])\n",
        "\n",
        "plt.subplot(1, 2, 1)\n",
        "plt.plot(x,y)\n",
        "plt.title(\"SALES\")\n",
        "\n",
        "#plot 2:\n",
        "x = np.array([0, 1, 2, 3])\n",
        "y = np.array([10, 20, 30, 40])\n",
        "\n",
        "plt.subplot(1, 2, 2)\n",
        "plt.plot(x,y)\n",
        "plt.title(\"INCOME\")\n",
        "\n",
        "plt.suptitle(\"MY SHOP\")\n",
        "plt.show()"
      ],
      "metadata": {
        "id": "-mhIY7N6QZ4I"
      },
      "execution_count": null,
      "outputs": []
    },
    {
      "cell_type": "markdown",
      "source": [
        "With Pyplot, you can use the scatter() function to draw a scatter plot.\n",
        "\n",
        "The scatter() function plots one dot for each observation. It needs two arrays of the same length, one for the values of the x-axis, and one for values on the y-axis:"
      ],
      "metadata": {
        "id": "P2PNdhR0QiBP"
      }
    },
    {
      "cell_type": "code",
      "source": [
        "import matplotlib.pyplot as plt\n",
        "import numpy as np\n",
        "\n",
        "x = np.array([5,7,8,7,2,17,2,9,4,11,12,9,6])\n",
        "y = np.array([99,86,87,88,111,86,103,87,94,78,77,85,86])\n",
        "\n",
        "plt.scatter(x, y)\n",
        "plt.show()"
      ],
      "metadata": {
        "id": "XAKR68h5QkUI"
      },
      "execution_count": null,
      "outputs": []
    },
    {
      "cell_type": "markdown",
      "source": [
        "Compare Plots\n",
        "\n",
        "In the example above, there seems to be a relationship between speed and age, but what if we plot the observations from another day as well? Will the scatter plot tell us something else?\n",
        "\n",
        "Example\n",
        "Draw two plots on the same figure:"
      ],
      "metadata": {
        "id": "U2Q1YFxVQoYu"
      }
    },
    {
      "cell_type": "code",
      "source": [
        "#Set your own color of the markers:\n",
        "\n",
        "import matplotlib.pyplot as plt\n",
        "import numpy as np\n",
        "\n",
        "x = np.array([5,7,8,7,2,17,2,9,4,11,12,9,6])\n",
        "y = np.array([99,86,87,88,111,86,103,87,94,78,77,85,86])\n",
        "plt.scatter(x, y, color = 'hotpink')\n",
        "\n",
        "x = np.array([2,2,8,1,15,8,12,9,7,3,11,4,7,14,12])\n",
        "y = np.array([100,105,84,105,90,99,90,95,94,100,79,112,91,80,85])\n",
        "plt.scatter(x, y, color = '#88c999')\n",
        "\n",
        "plt.show()"
      ],
      "metadata": {
        "id": "ohS8JIaWQrKv"
      },
      "execution_count": null,
      "outputs": []
    },
    {
      "cell_type": "markdown",
      "source": [
        "Color Each Dot\n",
        "\n",
        "You can even set a specific color for each dot by using an array of colors as value for the c argument:\n",
        "\n",
        "Note: You cannot use the color argument for this, only the c argument."
      ],
      "metadata": {
        "id": "Tm2GfEp3Q-UK"
      }
    },
    {
      "cell_type": "code",
      "source": [
        "import matplotlib.pyplot as plt\n",
        "import numpy as np\n",
        "\n",
        "x = np.array([5,7,8,7,2,17,2,9,4,11,12,9,6])\n",
        "y = np.array([99,86,87,88,111,86,103,87,94,78,77,85,86])\n",
        "colors = np.array([\"red\",\"green\",\"blue\",\"yellow\",\"pink\",\"black\",\"orange\",\"purple\",\"beige\",\"brown\",\"gray\",\"cyan\",\"magenta\"])\n",
        "\n",
        "plt.scatter(x, y, c=colors)\n",
        "\n",
        "plt.show()"
      ],
      "metadata": {
        "id": "oMnYOlBPRAjE"
      },
      "execution_count": null,
      "outputs": []
    },
    {
      "cell_type": "markdown",
      "source": [
        "You can include the colormap in the drawing by including the plt.colorbar() statement:"
      ],
      "metadata": {
        "id": "FLOR3fIHRHdz"
      }
    },
    {
      "cell_type": "code",
      "source": [
        "import matplotlib.pyplot as plt\n",
        "import numpy as np\n",
        "\n",
        "x = np.array([5,7,8,7,2,17,2,9,4,11,12,9,6])\n",
        "y = np.array([99,86,87,88,111,86,103,87,94,78,77,85,86])\n",
        "colors = np.array([0, 10, 20, 30, 40, 45, 50, 55, 60, 70, 80, 90, 100])\n",
        "\n",
        "plt.scatter(x, y, c=colors, cmap='viridis')\n",
        "\n",
        "plt.colorbar()\n",
        "\n",
        "plt.show()"
      ],
      "metadata": {
        "id": "uvz_ZqmPRJgX"
      },
      "execution_count": null,
      "outputs": []
    },
    {
      "cell_type": "markdown",
      "source": [
        "Alpha\n",
        "\n",
        "You can adjust the transparency of the dots with the alpha argument.\n",
        "\n",
        "Just like colors, make sure the array for sizes has the same length as the arrays for the x- and y-axis:"
      ],
      "metadata": {
        "id": "PT3tV9sQRSOE"
      }
    },
    {
      "cell_type": "code",
      "source": [
        "import matplotlib.pyplot as plt\n",
        "import numpy as np\n",
        "\n",
        "x = np.array([5,7,8,7,2,17,2,9,4,11,12,9,6])\n",
        "y = np.array([99,86,87,88,111,86,103,87,94,78,77,85,86])\n",
        "sizes = np.array([20,50,100,200,500,1000,60,90,10,300,600,800,75])\n",
        "\n",
        "plt.scatter(x, y, s=sizes, alpha=0.5)\n",
        "\n",
        "plt.show()"
      ],
      "metadata": {
        "id": "1WXNtZzNRTUg"
      },
      "execution_count": null,
      "outputs": []
    },
    {
      "cell_type": "markdown",
      "source": [
        "Combine Color Size and Alpha\n",
        "You can combine a colormap with different sizes of the dots. This is best visualized if the dots are transparent:\n",
        "\n",
        "Example\n",
        "Create random arrays with 100 values for x-points, y-points, colors and sizes:\n",
        "\n"
      ],
      "metadata": {
        "id": "EgoqxY-hRasd"
      }
    },
    {
      "cell_type": "code",
      "source": [
        "import matplotlib.pyplot as plt\n",
        "import numpy as np\n",
        "\n",
        "x = np.random.randint(100, size=(100))\n",
        "y = np.random.randint(100, size=(100))\n",
        "colors = np.random.randint(100, size=(100))\n",
        "sizes = 10 * np.random.randint(100, size=(100))\n",
        "\n",
        "plt.scatter(x, y, c=colors, s=sizes, alpha=0.5, cmap='nipy_spectral')\n",
        "\n",
        "plt.colorbar()\n",
        "\n",
        "plt.show()"
      ],
      "metadata": {
        "id": "vfVk7JEpRcHw"
      },
      "execution_count": null,
      "outputs": []
    },
    {
      "cell_type": "markdown",
      "source": [
        "Creating Bars\n",
        "\n",
        "With Pyplot, you can use the bar() function to draw bar graphs:"
      ],
      "metadata": {
        "id": "06hE0qe8RgZD"
      }
    },
    {
      "cell_type": "code",
      "source": [
        "import matplotlib.pyplot as plt\n",
        "import numpy as np\n",
        "\n",
        "x = np.array([\"A\", \"B\", \"C\", \"D\"])\n",
        "y = np.array([3, 8, 1, 10])\n",
        "\n",
        "plt.bar(x,y)\n",
        "plt.show()"
      ],
      "metadata": {
        "id": "FBoP2EspRi3V"
      },
      "execution_count": null,
      "outputs": []
    },
    {
      "cell_type": "markdown",
      "source": [
        "If you want the bars to be displayed horizontally instead of vertically, use the barh() function:\n",
        "\n",
        "Example\n",
        "Draw 4 horizontal bars:\n"
      ],
      "metadata": {
        "id": "8DawmUPvRpQy"
      }
    },
    {
      "cell_type": "code",
      "source": [
        "\n",
        "import matplotlib.pyplot as plt\n",
        "import numpy as np\n",
        "\n",
        "x = np.array([\"A\", \"B\", \"C\", \"D\"])\n",
        "y = np.array([3, 8, 1, 10])\n",
        "\n",
        "plt.barh(x, y)"
      ],
      "metadata": {
        "id": "7URwP7-lRqz4"
      },
      "execution_count": null,
      "outputs": []
    },
    {
      "cell_type": "markdown",
      "source": [
        "Bar Color\n",
        "\n",
        "The bar() and barh() take the keyword argument color to set the color of the bars:\n",
        "\n",
        "Example\n",
        "Draw 4 red bars:\n",
        "\n"
      ],
      "metadata": {
        "id": "0-2uCQCqRxX4"
      }
    },
    {
      "cell_type": "code",
      "source": [
        "import matplotlib.pyplot as plt\n",
        "import numpy as np\n",
        "\n",
        "x = np.array([\"A\", \"B\", \"C\", \"D\"])\n",
        "y = np.array([3, 8, 1, 10])\n",
        "\n",
        "plt.bar(x, y, color = \"red\")\n",
        "plt.show()"
      ],
      "metadata": {
        "id": "R2prXOBGRzKT"
      },
      "execution_count": null,
      "outputs": []
    },
    {
      "cell_type": "markdown",
      "source": [
        "The bar() takes the keyword argument width to set the width of the bars:"
      ],
      "metadata": {
        "id": "oZuQjKq6R3sq"
      }
    },
    {
      "cell_type": "code",
      "source": [
        "plt.bar(x, y, width = 0.1)"
      ],
      "metadata": {
        "id": "34h-u6jNR5Zo"
      },
      "execution_count": null,
      "outputs": []
    },
    {
      "cell_type": "markdown",
      "source": [
        "The barh() takes the keyword argument height to set the height of the bars:"
      ],
      "metadata": {
        "id": "gAhEZJQ0R8f-"
      }
    },
    {
      "cell_type": "code",
      "source": [
        "plt.barh(x, y, height = 0.1)"
      ],
      "metadata": {
        "id": "36NtAO1OR-QF"
      },
      "execution_count": null,
      "outputs": []
    },
    {
      "cell_type": "markdown",
      "source": [
        "Histogram\n",
        "\n",
        "A histogram is a graph showing frequency distributions.\n",
        "\n",
        "It is a graph showing the number of observations within each given interval.\n",
        "\n",
        "Example: Say you ask for the height of 250 people, you might end up with a histogram like t"
      ],
      "metadata": {
        "id": "EFZQdCeOSC9E"
      }
    },
    {
      "cell_type": "markdown",
      "source": [
        "The hist() function will read the array and produce a histogram:\n",
        "\n",
        "Example\n",
        "A simple histogram:\n"
      ],
      "metadata": {
        "id": "55FGy84YSLK3"
      }
    },
    {
      "cell_type": "code",
      "source": [
        "\n",
        "import matplotlib.pyplot as plt\n",
        "import numpy as np\n",
        "\n",
        "x = np.random.normal(170, 10, 250)\n",
        "\n",
        "plt.hist(x)\n",
        "plt.show()"
      ],
      "metadata": {
        "id": "3eBcWS8gSMj5"
      },
      "execution_count": null,
      "outputs": []
    },
    {
      "cell_type": "markdown",
      "source": [
        "Creating Pie Charts\n",
        "\n",
        "With Pyplot, you can use the pie() function to draw pie charts:"
      ],
      "metadata": {
        "id": "ohK4zmzZSYVC"
      }
    },
    {
      "cell_type": "code",
      "source": [
        "import matplotlib.pyplot as plt\n",
        "import numpy as np\n",
        "\n",
        "y = np.array([35, 25, 25, 15])\n",
        "\n",
        "plt.pie(y)\n",
        "plt.show()"
      ],
      "metadata": {
        "id": "1wm3df6sSaCn"
      },
      "execution_count": null,
      "outputs": []
    },
    {
      "cell_type": "markdown",
      "source": [
        "Note: The size of each wedge is determined by comparing the value with all the other values, by using this formula:\n",
        "\n",
        "The value divided by the sum of all values: x/sum(x)"
      ],
      "metadata": {
        "id": "NtxjVqYBSl5s"
      }
    },
    {
      "cell_type": "markdown",
      "source": [
        "Add labels to the pie chart with the labels parameter.\n",
        "\n",
        "The labels parameter must be an array with one label for each wedge:\n",
        "\n",
        "Example\n",
        "A simple pie chart:\n",
        "\n"
      ],
      "metadata": {
        "id": "TifSvpAESqlM"
      }
    },
    {
      "cell_type": "code",
      "source": [
        "import matplotlib.pyplot as plt\n",
        "import numpy as np\n",
        "\n",
        "y = np.array([35, 25, 25, 15])\n",
        "mylabels = [\"Apples\", \"Bananas\", \"Cherries\", \"Dates\"]\n",
        "\n",
        "plt.pie(y, labels = mylabels)\n",
        "plt.show()"
      ],
      "metadata": {
        "id": "sns5rci5SsYi"
      },
      "execution_count": null,
      "outputs": []
    },
    {
      "cell_type": "markdown",
      "source": [
        "Start Angle\n",
        "\n",
        "As mentioned the default start angle is at the x-axis, but you can change the start angle by specifying a startangle parameter.\n",
        "\n",
        "The startangle parameter is defined with an angle in degrees, default angle is 0:\n",
        "\n"
      ],
      "metadata": {
        "id": "oxqN7uQlSxkw"
      }
    },
    {
      "cell_type": "code",
      "source": [
        "import matplotlib.pyplot as plt\n",
        "import numpy as np\n",
        "\n",
        "y = np.array([35, 25, 25, 15])\n",
        "mylabels = [\"Apples\", \"Bananas\", \"Cherries\", \"Dates\"]\n",
        "\n",
        "plt.pie(y, labels = mylabels, startangle = 90)\n",
        "plt.show()"
      ],
      "metadata": {
        "id": "7QHXpon-S2Up"
      },
      "execution_count": null,
      "outputs": []
    },
    {
      "cell_type": "markdown",
      "source": [
        "Explode\n",
        "\n",
        "Maybe you want one of the wedges to stand out? The explode parameter allows you to do that.\n",
        "\n",
        "The explode parameter, if specified, and not None, must be an array with one value for each wedge.\n",
        "\n",
        "Each value represents how far from the center each wedge is displayed:\n",
        "\n",
        "Example\n",
        "Pull the \"Apples\" wedge 0.2 from the center of the pie:"
      ],
      "metadata": {
        "id": "FqG8DAWRTABh"
      }
    },
    {
      "cell_type": "code",
      "source": [
        "import matplotlib.pyplot as plt\n",
        "import numpy as np\n",
        "\n",
        "y = np.array([35, 25, 25, 15])\n",
        "mylabels = [\"Apples\", \"Bananas\", \"Cherries\", \"Dates\"]\n",
        "myexplode = [0.2, 0, 0, 0]\n",
        "\n",
        "plt.pie(y, labels = mylabels, explode = myexplode)\n",
        "plt.show()"
      ],
      "metadata": {
        "id": "apDUy2d3S9Ya"
      },
      "execution_count": null,
      "outputs": []
    },
    {
      "cell_type": "markdown",
      "source": [
        "Shadow\n",
        "Add a shadow to the pie chart by setting the shadows parameter to True:\n",
        "\n",
        "Example\n",
        "Add a shadow:\n",
        "\n"
      ],
      "metadata": {
        "id": "cITSYfbZTE3H"
      }
    },
    {
      "cell_type": "code",
      "source": [
        "import matplotlib.pyplot as plt\n",
        "import numpy as np\n",
        "\n",
        "y = np.array([35, 25, 25, 15])\n",
        "mylabels = [\"Apples\", \"Bananas\", \"Cherries\", \"Dates\"]\n",
        "myexplode = [0.2, 0, 0, 0]\n",
        "\n",
        "plt.pie(y, labels = mylabels, explode = myexplode, shadow = True)\n",
        "plt.show()"
      ],
      "metadata": {
        "id": "Ko_S5djsTGAM"
      },
      "execution_count": null,
      "outputs": []
    },
    {
      "cell_type": "markdown",
      "source": [
        "Colors\n",
        "You can set the color of each wedge with the colors parameter.\n",
        "\n",
        "The colors parameter, if specified, must be an array with one value for each wedge:\n",
        "\n",
        "Example\n",
        "Specify a new color for each wedge:\n",
        "\n"
      ],
      "metadata": {
        "id": "7hG1C-cUTK69"
      }
    },
    {
      "cell_type": "code",
      "source": [
        "import matplotlib.pyplot as plt\n",
        "import numpy as np\n",
        "\n",
        "y = np.array([35, 25, 25, 15])\n",
        "mylabels = [\"Apples\", \"Bananas\", \"Cherries\", \"Dates\"]\n",
        "mycolors = [\"black\", \"hotpink\", \"b\", \"#4CAF50\"]\n",
        "\n",
        "plt.pie(y, labels = mylabels, colors = mycolors)\n",
        "plt.show()"
      ],
      "metadata": {
        "id": "vhYPEo4bTMZr"
      },
      "execution_count": null,
      "outputs": []
    },
    {
      "cell_type": "markdown",
      "source": [
        "Legend\n",
        "To add a list of explanation for each wedge, use the legend() function:\n",
        "\n",
        "Example\n",
        "Add a legend:\n",
        "\n"
      ],
      "metadata": {
        "id": "-Vf4-w5RTRn5"
      }
    },
    {
      "cell_type": "code",
      "source": [
        "import matplotlib.pyplot as plt\n",
        "import numpy as np\n",
        "\n",
        "y = np.array([35, 25, 25, 15])\n",
        "mylabels = [\"Apples\", \"Bananas\", \"Cherries\", \"Dates\"]\n",
        "\n",
        "plt.pie(y, labels = mylabels)\n",
        "plt.legend(title = \"Four Fruits:\")\n",
        "plt.show()"
      ],
      "metadata": {
        "id": "huIVrSwwTU4P"
      },
      "execution_count": null,
      "outputs": []
    }
  ]
}