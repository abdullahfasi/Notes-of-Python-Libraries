{
  "nbformat": 4,
  "nbformat_minor": 0,
  "metadata": {
    "colab": {
      "provenance": []
    },
    "kernelspec": {
      "name": "python3",
      "display_name": "Python 3"
    },
    "language_info": {
      "name": "python"
    }
  },
  "cells": [
    {
      "cell_type": "code",
      "execution_count": null,
      "metadata": {
        "id": "kfY0WwO0yZ6g"
      },
      "outputs": [],
      "source": []
    },
    {
      "cell_type": "markdown",
      "source": [
        "At the core of the NumPy package, is the **ndarray** object. This encapsulates n-dimensional arrays of homogeneous data types,\n",
        "\n",
        "**important differences between NumPy arrays and the standard Python sequences:**\n",
        "\n",
        "\n",
        "1.   NumPy arrays have a fixed size at creation, unlike Python lists (which can grow dynamically). Changing the size of an ndarray will create a new array and delete the original.\n",
        "2.   The elements in a NumPy array are all required to be of the same data type, and thus will be the same size in memory. The exception: one can have arrays of (Python, including NumPy) objects, thereby allowing for arrays of different sized elements\n",
        "\n",
        "-->vectorized code is more concise and easier to read\n",
        "\n",
        "\n",
        "\n"
      ],
      "metadata": {
        "id": "U-_9U_2W1U_g"
      }
    },
    {
      "cell_type": "code",
      "source": [
        "import numpy as np\n",
        "\n",
        "arr = np.array([[1, 2, 3], [4, 5, 6]])\n",
        "print(arr.shape)  # Output: (2, 3)\n",
        "\n",
        "\n",
        "print(arr.ndim)  # Output: 2 (since it's a 2D array)\n",
        "\n",
        "print(arr.dtype)  # Output: int64 (or int32 depending on your system)\n",
        "\n",
        "arr_float = np.array([1.2, 2.3, 3.4], dtype=np.float32)\n",
        "print(arr_float.dtype)  # Output: float32\n",
        "\n",
        "print(arr.size)  # Output: 6 (because there are 6 elements in the array)\n",
        "\n",
        "arr = np.array([1, 2, 3, 4])\n",
        "arr2 = arr * 2  # All elements are multiplied by 2\n",
        "print(arr2)  # Output: [2, 4, 6, 8]\n",
        "\n",
        "arr = np.array([[1, 2, 3], [4, 5, 6]])\n",
        "\n",
        "# Accessing an element\n",
        "print(arr[0, 1])  # Output: 2\n",
        "\n",
        "# Slicing a row\n",
        "print(arr[1, :])  # Output: [4, 5, 6]\n",
        "\n",
        "# Modifying a value\n",
        "arr[0, 0] = 10\n",
        "print(arr)  # Output: [[10, 2, 3], [4, 5, 6]]\n"
      ],
      "metadata": {
        "id": "y3HnG_GG7qbI"
      },
      "execution_count": null,
      "outputs": []
    },
    {
      "cell_type": "markdown",
      "source": [
        "ndim: Number of dimensions (axes).\n",
        "\n",
        "shape: Tuple showing the size along each dimension.\n",
        "\n",
        "dtype: Data type of the elements.\n",
        "\n",
        "size: Total number of elements.\n",
        "\n",
        "itemsize: Size in bytes of each element.\n",
        "\n",
        "data: The actual buffer containing the array’s data (rarely used directly)."
      ],
      "metadata": {
        "id": "HBu3qirM7rqM"
      }
    },
    {
      "cell_type": "markdown",
      "source": [
        "np.arange() is a function in NumPy that generates an array of evenly spaced values within a specified range"
      ],
      "metadata": {
        "id": "OaLA9-YZAOcI"
      }
    },
    {
      "cell_type": "code",
      "source": [
        "import numpy as np\n",
        "a = np.arange(15).reshape(3, 5)\n",
        "a\n",
        "array([[ 0,  1,  2,  3,  4],\n",
        "       [ 5,  6,  7,  8,  9],\n",
        "       [10, 11, 12, 13, 14]])\n",
        "a.shape\n",
        "(3, 5)\n",
        "a.ndim\n",
        "2\n",
        "a.dtype.name\n",
        "'int64'\n",
        "a.itemsize\n",
        "8\n",
        "a.size\n",
        "15\n",
        "type(a)\n",
        "<class 'numpy.ndarray'>\n",
        "b = np.array([6, 7, 8])\n",
        "b\n",
        "array([6, 7, 8])\n",
        "type(b)\n",
        "<class 'numpy.ndarray'>"
      ],
      "metadata": {
        "id": "7bKkgXIa9Rab"
      },
      "execution_count": null,
      "outputs": []
    },
    {
      "cell_type": "markdown",
      "source": [
        "The type of the array can also be explicitly specified at creation time:"
      ],
      "metadata": {
        "id": "lQBo2h509SSY"
      }
    },
    {
      "cell_type": "code",
      "source": [
        "import np as np\n",
        "c = np.array([[1, 2], [3, 4]], dtype=complex)\n",
        "c\n",
        "array([[1.+0.j, 2.+0.j],\n",
        "       [3.+0.j, 4.+0.j]])"
      ],
      "metadata": {
        "colab": {
          "base_uri": "https://localhost:8080/",
          "height": 193
        },
        "id": "PFkUpuPYAnUH",
        "outputId": "f1083a52-15ef-408c-e376-427d125d4c7f"
      },
      "execution_count": 1,
      "outputs": [
        {
          "output_type": "error",
          "ename": "NameError",
          "evalue": "name 'np' is not defined",
          "traceback": [
            "\u001b[0;31m---------------------------------------------------------------------------\u001b[0m",
            "\u001b[0;31mNameError\u001b[0m                                 Traceback (most recent call last)",
            "\u001b[0;32m<ipython-input-1-8a5623138b7b>\u001b[0m in \u001b[0;36m<cell line: 1>\u001b[0;34m()\u001b[0m\n\u001b[0;32m----> 1\u001b[0;31m \u001b[0mc\u001b[0m \u001b[0;34m=\u001b[0m \u001b[0mnp\u001b[0m\u001b[0;34m.\u001b[0m\u001b[0marray\u001b[0m\u001b[0;34m(\u001b[0m\u001b[0;34m[\u001b[0m\u001b[0;34m[\u001b[0m\u001b[0;36m1\u001b[0m\u001b[0;34m,\u001b[0m \u001b[0;36m2\u001b[0m\u001b[0;34m]\u001b[0m\u001b[0;34m,\u001b[0m \u001b[0;34m[\u001b[0m\u001b[0;36m3\u001b[0m\u001b[0;34m,\u001b[0m \u001b[0;36m4\u001b[0m\u001b[0;34m]\u001b[0m\u001b[0;34m]\u001b[0m\u001b[0;34m,\u001b[0m \u001b[0mdtype\u001b[0m\u001b[0;34m=\u001b[0m\u001b[0mcomplex\u001b[0m\u001b[0;34m)\u001b[0m\u001b[0;34m\u001b[0m\u001b[0;34m\u001b[0m\u001b[0m\n\u001b[0m\u001b[1;32m      2\u001b[0m \u001b[0mc\u001b[0m\u001b[0;34m\u001b[0m\u001b[0;34m\u001b[0m\u001b[0m\n\u001b[1;32m      3\u001b[0m array([[1.+0.j, 2.+0.j],\n\u001b[1;32m      4\u001b[0m        [3.+0.j, 4.+0.j]])\n",
            "\u001b[0;31mNameError\u001b[0m: name 'np' is not defined"
          ]
        }
      ]
    },
    {
      "cell_type": "code",
      "source": [
        "np.zeros((3, 4))\n",
        "array([[0., 0., 0., 0.],\n",
        "       [0., 0., 0., 0.],\n",
        "       [0., 0., 0., 0.]])\n",
        "np.ones((2, 3, 4), dtype=np.int16) # 2 means 2-D\n",
        "array([[[1, 1, 1, 1],\n",
        "        [1, 1, 1, 1],\n",
        "        [1, 1, 1, 1]],\n",
        "\n",
        "       [[1, 1, 1, 1],\n",
        "        [1, 1, 1, 1],\n",
        "        [1, 1, 1, 1]]], dtype=int16)\n",
        "np.empty((2, 3))\n",
        "array([[3.73603959e-262, 6.02658058e-154, 6.55490914e-260],  # may vary\n",
        "       [5.30498948e-313, 3.14673309e-307, 1.00000000e+000]])"
      ],
      "metadata": {
        "id": "O3_aEimhA1rE"
      },
      "execution_count": null,
      "outputs": []
    },
    {
      "cell_type": "markdown",
      "source": [
        "**np.linspace()** generates evenly spaced values over a specified range, which is useful for evaluating functions or creating grids of points."
      ],
      "metadata": {
        "id": "OxBeVeIXBvbg"
      }
    },
    {
      "cell_type": "code",
      "source": [
        "from numpy import pi\n",
        "np.linspace(0, 2, 9)                   # 9 numbers from 0 to 2\n",
        "array([0.  , 0.25, 0.5 , 0.75, 1.  , 1.25, 1.5 , 1.75, 2.  ])\n",
        "x = np.linspace(0, 2 * pi, 100)        # useful to evaluate function at lots of points\n",
        "f = np.sin(x)"
      ],
      "metadata": {
        "id": "KcRAoi-kBaWH"
      },
      "execution_count": null,
      "outputs": []
    },
    {
      "cell_type": "code",
      "source": [
        "A = np.array([[1, 1],\n",
        "              [0, 1]])\n",
        "B = np.array([[2, 0],\n",
        "              [3, 4]])\n",
        "A * B     # elementwise product\n",
        "array([[2, 0],\n",
        "       [0, 4]])\n",
        "A @ B     # matrix product\n",
        "array([[5, 4],\n",
        "       [3, 4]])\n",
        "A.dot(B)  # another matrix product\n",
        "array([[5, 4],\n",
        "       [3, 4]])"
      ],
      "metadata": {
        "id": "DcyOXbV2CemP"
      },
      "execution_count": null,
      "outputs": []
    },
    {
      "cell_type": "code",
      "source": [
        "b = np.arange(12).reshape(3, 4)\n",
        "b\n",
        "array([[ 0,  1,  2,  3],\n",
        "       [ 4,  5,  6,  7],\n",
        "       [ 8,  9, 10, 11]])\n",
        "\n",
        "b.sum(axis=0)     # sum of each column\n",
        "array([12, 15, 18, 21])\n",
        "\n",
        "b.min(axis=1)     # min of each row\n",
        "array([0, 4, 8])\n",
        "\n",
        "b.cumsum(axis=1)  # cumulative sum along each row\n",
        "array([[ 0,  1,  3,  6],\n",
        "       [ 4,  9, 15, 22],\n",
        "       [ 8, 17, 27, 38]])"
      ],
      "metadata": {
        "id": "IJl4YGPTCo1X"
      },
      "execution_count": null,
      "outputs": []
    },
    {
      "cell_type": "markdown",
      "source": [
        "One-dimensional arrays can be indexed, sliced and iterated over, much like lists and other Python sequences."
      ],
      "metadata": {
        "id": "mNVjebndDIeE"
      }
    },
    {
      "cell_type": "code",
      "source": [
        "a = np.arange(10)**3\n",
        "a\n",
        "array([  0,   1,   8,  27,  64, 125, 216, 343, 512, 729])\n",
        "a[2]\n",
        "8\n",
        "a[2:5]\n",
        "array([ 8, 27, 64])\n",
        "# equivalent to a[0:6:2] = 1000;\n",
        "# from start to position 6, exclusive, set every 2nd element to 1000\n",
        "a[:6:2] = 1000\n",
        "a\n",
        "array([1000,    1, 1000,   27, 1000,  125,  216,  343,  512,  729])\n",
        "a[::-1]  # reversed a\n",
        "array([ 729,  512,  343,  216,  125, 1000,   27, 1000,    1, 1000])\n",
        "for i in a:\n",
        "    print(i**(1 / 3.))\n",
        "\n",
        "9.999999999999998  # may vary\n",
        "1.0\n",
        "9.999999999999998\n",
        "3.0\n",
        "9.999999999999998\n",
        "4.999999999999999\n",
        "5.999999999999999\n",
        "6.999999999999999\n",
        "7.999999999999999\n",
        "8.999999999999998"
      ],
      "metadata": {
        "id": "0qsddy3PDJxO"
      },
      "execution_count": null,
      "outputs": []
    },
    {
      "cell_type": "markdown",
      "source": [
        "Iterating over multidimensional arrays is done with respect to the first axis:"
      ],
      "metadata": {
        "id": "-ZSdAznSEw-u"
      }
    },
    {
      "cell_type": "code",
      "source": [
        "for row in b:\n",
        "    print(row)\n",
        "\n",
        "[0 1 2 3]\n",
        "[10 11 12 13]\n",
        "[20 21 22 23]\n",
        "[30 31 32 33]\n",
        "[40 41 42 43]"
      ],
      "metadata": {
        "id": "dQjhvHGGEx4g"
      },
      "execution_count": null,
      "outputs": []
    },
    {
      "cell_type": "markdown",
      "source": [
        "However, if one wants to perform an operation on each element in the array, one can use the flat attribute which is an iterator over all the elements of the array:"
      ],
      "metadata": {
        "id": "2_7t8HjmEzj-"
      }
    },
    {
      "cell_type": "code",
      "source": [
        "for element in b.flat:\n",
        "    print(element)\n",
        "\n",
        "0\n",
        "1\n",
        "2\n",
        "3\n",
        "10\n",
        "11\n",
        "12\n",
        "13\n",
        "20\n",
        "21\n",
        "22\n",
        "23\n",
        "30\n",
        "31\n",
        "32\n",
        "33\n",
        "40\n",
        "41\n",
        "42\n",
        "43"
      ],
      "metadata": {
        "id": "8QFYFpneE5SP"
      },
      "execution_count": null,
      "outputs": []
    },
    {
      "cell_type": "code",
      "source": [
        "a.ravel()  # returns the array, flattened\n",
        "array([3., 7., 3., 4., 1., 4., 2., 2., 7., 2., 4., 9.])\n",
        "a.reshape(6, 2)  # returns the array with a modified shape\n",
        "array([[3., 7.],\n",
        "       [3., 4.],\n",
        "       [1., 4.],\n",
        "       [2., 2.],\n",
        "       [7., 2.],\n",
        "       [4., 9.]])\n",
        "a.T  # returns the array, transposed\n",
        "array([[3., 1., 7.],\n",
        "       [7., 4., 2.],\n",
        "       [3., 2., 4.],\n",
        "       [4., 2., 9.]])\n",
        "a.T.shape\n",
        "(4, 3)\n",
        "a.shape\n",
        "(3, 4)"
      ],
      "metadata": {
        "id": "6c4DTxRUFKHY"
      },
      "execution_count": null,
      "outputs": []
    },
    {
      "cell_type": "code",
      "source": [
        "a = np.floor(10 * rg.random((2, 2)))\n",
        "a\n",
        "array([[9., 7.],\n",
        "       [5., 2.]])\n",
        "b = np.floor(10 * rg.random((2, 2)))\n",
        "b\n",
        "array([[1., 9.],\n",
        "       [5., 1.]])\n",
        "np.vstack((a, b))\n",
        "array([[9., 7.],\n",
        "       [5., 2.],\n",
        "       [1., 9.],\n",
        "       [5., 1.]])\n",
        "np.hstack((a, b))\n",
        "array([[9., 7., 1., 9.],\n",
        "       [5., 2., 5., 1.]])"
      ],
      "metadata": {
        "id": "K0ZS6ZQhFtCn"
      },
      "execution_count": null,
      "outputs": []
    },
    {
      "cell_type": "markdown",
      "source": [
        "The function column_stack stacks 1D arrays as columns into a 2D array. It is equivalent to hstack only for 2D arrays:"
      ],
      "metadata": {
        "id": "TS48HBbxGGMw"
      }
    },
    {
      "cell_type": "code",
      "source": [
        "a = np.floor(10 * rg.random((2, 12)))\n",
        "a\n",
        "array([[6., 7., 6., 9., 0., 5., 4., 0., 6., 8., 5., 2.],\n",
        "       [8., 5., 5., 7., 1., 8., 6., 7., 1., 8., 1., 0.]])\n",
        "# Split `a` into 3\n",
        "np.hsplit(a, 3)\n",
        "[array([[6., 7., 6., 9.],\n",
        "       [8., 5., 5., 7.]]), array([[0., 5., 4., 0.],\n",
        "       [1., 8., 6., 7.]]), array([[6., 8., 5., 2.],\n",
        "       [1., 8., 1., 0.]])]\n",
        "# Split `a` after the third and the fourth column\n",
        "np.hsplit(a, (3, 4))\n",
        "[array([[6., 7., 6.],\n",
        "       [8., 5., 5.]]), array([[9.],\n",
        "       [7.]]), array([[0., 5., 4., 0., 6., 8., 5., 2.],\n",
        "       [1., 8., 6., 7., 1., 8., 1., 0.]])]"
      ],
      "metadata": {
        "id": "yRtkWQ49G0jr"
      },
      "execution_count": null,
      "outputs": []
    },
    {
      "cell_type": "markdown",
      "source": [
        "np.hsplit(a, 3) splits the array horizontally (column-wise) into 3 equal parts.\n",
        "The input array a has 12 columns, so splitting it into 3 parts will result in 3 sub-arrays, each having 4 columns.\n",
        "\n",
        "np.hsplit(a, (3, 4))\n",
        "np.hsplit(a, (3, 4)) splits the array a at specific indices: after the 3rd column and after the 4th column.\n",
        "This creates 3 sub-arrays:\n",
        "The first sub-array contains the first 3 columns.\n",
        "The second sub-array contains only the 4th column.\n",
        "The third sub-array contains the remaining columns from the 5th onward."
      ],
      "metadata": {
        "id": "aT7hA2sVHOEn"
      }
    },
    {
      "cell_type": "code",
      "source": [
        "a = np.array([[ 0,  1,  2,  3],\n",
        "              [ 4,  5,  6,  7],\n",
        "              [ 8,  9, 10, 11]])\n",
        "b = a            # no new object is created\n",
        "b is a           # a and b are two names for the same ndarray object"
      ],
      "metadata": {
        "id": "lfZ6JnBZHh33"
      },
      "execution_count": null,
      "outputs": []
    },
    {
      "cell_type": "markdown",
      "source": [
        "View or shallow copy\n",
        "Different array objects can share the same data. The view method creates a new array object that looks at the same data"
      ],
      "metadata": {
        "id": "7m12Miz7INtg"
      }
    },
    {
      "cell_type": "code",
      "source": [
        "c = a.view()\n",
        "c is a\n",
        "False\n",
        "c.base is a            # c is a view of the data owned by a\n",
        "True\n",
        "c.flags.owndata\n",
        "False\n",
        "\n",
        "c = c.reshape((2, 6))  # a's shape doesn't change\n",
        "a.shape\n",
        "(3, 4)\n",
        "c[0, 4] = 1234         # a's data changes\n",
        "a\n",
        "array([[   0,    1,    2,    3],\n",
        "       [1234,    5,    6,    7],\n",
        "       [   8,    9,   10,   11]])"
      ],
      "metadata": {
        "id": "lgfgTHPKILvH"
      },
      "execution_count": null,
      "outputs": []
    },
    {
      "cell_type": "markdown",
      "source": [
        "**Deep copy (copy() method):** Creates an entirely new array with its own memory allocation. The new array does not share data with the original, meaning changes made to the new array do not affect the original one.\n",
        "\n",
        "**Difference from views: **In contrast to views, deep copies do not share data with the original array. Views affect the original array when modified because they reference the same data."
      ],
      "metadata": {
        "id": "Z9AP1IPbJIM_"
      }
    },
    {
      "cell_type": "code",
      "source": [
        "#Deep copy\n",
        "#The copy method makes a complete copy of the array and its data.\n",
        "\n",
        "d = a.copy()  # a new array object with new data is created\n",
        "d is a\n",
        "False\n",
        "d.base is a  # d doesn't share anything with a\n",
        "False\n",
        "d[0, 0] = 9999\n",
        "a\n",
        "array([[   0,   10,   10,    3],\n",
        "       [1234,   10,   10,    7],\n",
        "       [   8,   10,   10,   11]])"
      ],
      "metadata": {
        "id": "l9JSZDqjIv5Y"
      },
      "execution_count": null,
      "outputs": []
    },
    {
      "cell_type": "markdown",
      "source": [
        "Advanced indexing and index tricks\n",
        "NumPy offers more indexing facilities than regular Python sequences. In addition to indexing by integers and slices, as we saw before, arrays can be indexed by arrays of integers and arrays of booleans."
      ],
      "metadata": {
        "id": "Mi4-Glc2JoWG"
      }
    },
    {
      "cell_type": "code",
      "source": [
        "a = np.arange(12)**2  # the first 12 square numbers\n",
        "i = np.array([1, 1, 3, 8, 5])  # an array of indices\n",
        "a[i]  # the elements of `a` at the positions `i`\n",
        "array([ 1,  1,  9, 64, 25])\n",
        "\n",
        "j = np.array([[3, 4], [9, 7]])  # a bidimensional array of indices\n",
        "a[j]  # the same shape as `j`\n",
        "array([[ 9, 16],\n",
        "       [81, 49]])"
      ],
      "metadata": {
        "id": "F66L3SrQJmKN"
      },
      "execution_count": null,
      "outputs": []
    },
    {
      "cell_type": "markdown",
      "source": [
        "**np.ix_(a, b, c): **This function generates broadcastable arrays ax, bx, and cx from the original arrays a, b, and c. It turns each 1D array into a multidimensional array that can be broadcasted together to perform operations on all combinations of elements from a, b, and c."
      ],
      "metadata": {
        "id": "_YroIPqxKcd3"
      }
    },
    {
      "cell_type": "code",
      "source": [
        "a = np.array([2, 3, 4, 5])\n",
        "b = np.array([8, 5, 4])\n",
        "c = np.array([5, 4, 6, 8, 3])\n",
        "ax, bx, cx = np.ix_(a, b, c)\n",
        "ax\n",
        "array([[[2]],\n",
        "\n",
        "       [[3]],\n",
        "\n",
        "       [[4]],\n",
        "\n",
        "       [[5]]])\n",
        "bx\n",
        "array([[[8],\n",
        "        [5],\n",
        "        [4]]])\n",
        "cx\n",
        "array([[[5, 4, 6, 8, 3]]])\n",
        "ax.shape, bx.shape, cx.shape\n",
        "((4, 1, 1), (1, 3, 1), (1, 1, 5))\n",
        "result = ax + bx * cx\n",
        "result\n",
        "array([[[42, 34, 50, 66, 26],\n",
        "        [27, 22, 32, 42, 17],\n",
        "        [22, 18, 26, 34, 14]],\n",
        "\n",
        "       [[43, 35, 51, 67, 27],\n",
        "        [28, 23, 33, 43, 18],\n",
        "        [23, 19, 27, 35, 15]],\n",
        "\n",
        "       [[44, 36, 52, 68, 28],\n",
        "        [29, 24, 34, 44, 19],\n",
        "        [24, 20, 28, 36, 16]],\n",
        "\n",
        "       [[45, 37, 53, 69, 29],\n",
        "        [30, 25, 35, 45, 20],\n",
        "        [25, 21, 29, 37, 17]]])\n",
        "result[3, 2, 4]\n",
        "17\n",
        "a[3] + b[2] * c[4]\n",
        "17"
      ],
      "metadata": {
        "id": "Vs3WCrRMLZv3"
      },
      "execution_count": null,
      "outputs": []
    },
    {
      "cell_type": "markdown",
      "source": [
        "np.random.random(size): Generates random numbers between 0 and 1.\n",
        "\n",
        "Broadcasting allows NumPy to perform element-wise operations on arrays of different shapes by automatically expanding the smaller array.\n",
        "\n",
        "\n",
        "arr1 = np.array([1, 2, 3])\n",
        "\n",
        "arr2 = np.array([4])\n",
        "\n",
        "arr1 + arr2  # array([5, 6, 7])"
      ],
      "metadata": {
        "id": "D76SFxhCheBR"
      }
    },
    {
      "cell_type": "markdown",
      "source": [],
      "metadata": {
        "id": "J5s82XSxjhFi"
      }
    },
    {
      "cell_type": "markdown",
      "source": [
        "np.matmul(arr1, arr2) # Matrix multiplication\n",
        "\n",
        "np.eye(3)  # 3x3 identity matrix\n",
        "\n",
        "np.linalg.det(matrix)\n",
        "\n"
      ],
      "metadata": {
        "id": "HnHIUPiPh9Ww"
      }
    },
    {
      "cell_type": "markdown",
      "source": [
        "np.sort(arr): Returns a sorted array.\n",
        "\n",
        "np.argsort(arr): Returns the indices that would sort an array.\n",
        "\n",
        "np.searchsorted(arr, value): Finds indices where elements should be inserted to maintain order."
      ],
      "metadata": {
        "id": "sEoWeGaqi30B"
      }
    },
    {
      "cell_type": "markdown",
      "source": [
        " Handling Missing Data\n",
        "\n",
        "np.nan: Represents missing or \"not-a-number\" data.\n",
        "\n",
        "np.isnan(arr): Returns a boolean array indicating where nan values are.\n",
        "\n",
        "np.nanmean(arr): Compute mean ignoring nan values."
      ],
      "metadata": {
        "id": "BB5WjmkZjFOQ"
      }
    },
    {
      "cell_type": "markdown",
      "source": [
        "arr + 5  # Adds 5 to each element, broadcasting the scalar to the array"
      ],
      "metadata": {
        "id": "j7I_B2UVjQ-J"
      }
    }
  ]
}