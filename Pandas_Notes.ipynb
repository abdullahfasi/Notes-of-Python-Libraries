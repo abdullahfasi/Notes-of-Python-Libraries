{
  "nbformat": 4,
  "nbformat_minor": 0,
  "metadata": {
    "colab": {
      "provenance": []
    },
    "kernelspec": {
      "name": "python3",
      "display_name": "Python 3"
    },
    "language_info": {
      "name": "python"
    }
  },
  "cells": [
    {
      "cell_type": "code",
      "execution_count": null,
      "metadata": {
        "id": "OLAeq31MkT5n"
      },
      "outputs": [],
      "source": []
    },
    {
      "cell_type": "markdown",
      "source": [
        "Pandas is a Python library used for working with data sets.\n",
        "\n",
        "It has functions for analyzing, cleaning, exploring, and manipulating data."
      ],
      "metadata": {
        "id": "DXUINgfpo_8T"
      }
    },
    {
      "cell_type": "code",
      "source": [
        "import pandas as pd\n",
        "\n",
        "mydataset = {\n",
        "  'cars': [\"BMW\", \"Volvo\", \"Ford\"],\n",
        "  'passings': [3, 7, 2]\n",
        "}\n",
        "\n",
        "myvar = pd.DataFrame(mydataset)\n",
        "\n",
        "print(myvar)"
      ],
      "metadata": {
        "id": "8w5GmBSPpkbr"
      },
      "execution_count": null,
      "outputs": []
    },
    {
      "cell_type": "markdown",
      "source": [
        "      cars  passings\n",
        "\n",
        "0     BMW         3\n",
        "\n",
        "1     Volvo         7\n",
        "\n",
        "2     Ford         2"
      ],
      "metadata": {
        "id": "PhGclDkxpnOH"
      }
    },
    {
      "cell_type": "markdown",
      "source": [
        "A Pandas Series is like a column in a table.\n",
        "\n",
        "It is a one-dimensional array holding data of any type."
      ],
      "metadata": {
        "id": "BqDKqN4yp7QC"
      }
    },
    {
      "cell_type": "code",
      "source": [
        "import pandas as pd\n",
        "\n",
        "a = [1, 7, 2]\n",
        "\n",
        "myvar = pd.Series(a)\n",
        "\n",
        "print(myvar)"
      ],
      "metadata": {
        "id": "YtsErvc7qIkn"
      },
      "execution_count": null,
      "outputs": []
    },
    {
      "cell_type": "markdown",
      "source": [
        "With the index argument, you can name your own labels.\n",
        "\n",
        "Create your own labels:"
      ],
      "metadata": {
        "id": "0_eP5BTaqX5c"
      }
    },
    {
      "cell_type": "code",
      "source": [
        "\n",
        "\n",
        "import pandas as pd\n",
        "\n",
        "a = [1, 7, 2]\n",
        "\n",
        "myvar = pd.Series(a, index = [\"x\", \"y\", \"z\"])\n",
        "\n",
        "print(myvar)"
      ],
      "metadata": {
        "id": "Trtm3BN2qWFF"
      },
      "execution_count": null,
      "outputs": []
    },
    {
      "cell_type": "code",
      "source": [
        "import pandas as pd\n",
        "\n",
        "calories = {\"day1\": 420, \"day2\": 380, \"day3\": 390}\n",
        "\n",
        "myvar = pd.Series(calories, index = [\"day1\", \"day2\"])\n",
        "\n",
        "print(myvar)"
      ],
      "metadata": {
        "id": "KZZCefcFqs6G"
      },
      "execution_count": null,
      "outputs": []
    },
    {
      "cell_type": "markdown",
      "source": [
        "day1    420\n",
        "\n",
        "day2    380"
      ],
      "metadata": {
        "id": "iGBfaNR9qv4a"
      }
    },
    {
      "cell_type": "markdown",
      "source": [
        "A Pandas DataFrame is a 2 dimensional data structure, like a 2 dimensional array, or a table with rows and columns"
      ],
      "metadata": {
        "id": "N2yQN-SdrCPY"
      }
    },
    {
      "cell_type": "code",
      "source": [
        "import pandas as pd\n",
        "\n",
        "data = {\n",
        "  \"calories\": [420, 380, 390],\n",
        "  \"duration\": [50, 40, 45]\n",
        "}\n",
        "\n",
        "#load data into a DataFrame object:\n",
        "df = pd.DataFrame(data)\n",
        "\n",
        "print(df)"
      ],
      "metadata": {
        "id": "TOak3mYJrNSD"
      },
      "execution_count": null,
      "outputs": []
    },
    {
      "cell_type": "markdown",
      "source": [
        "Pandas use the loc attribute to return one or more specified row(s)\n",
        "\n",
        "Example\n",
        "Return row 0:"
      ],
      "metadata": {
        "id": "c8TjdV12rrCO"
      }
    },
    {
      "cell_type": "code",
      "source": [
        "\n",
        "\n",
        "#refer to the row index:\n",
        "print(df.loc[0])"
      ],
      "metadata": {
        "id": "85tDV01zrqDZ"
      },
      "execution_count": null,
      "outputs": []
    },
    {
      "cell_type": "code",
      "source": [
        "#Return row 0 and 1:\n",
        "\n",
        "#use a list of indexes:\n",
        "print(df.loc[[0, 1]])\n",
        "\n",
        " #    calories  duration\n",
        " # 0       420        50\n",
        " # 1       380        40\n",
        "\n",
        " # When using [], the result is a Pandas DataFrame."
      ],
      "metadata": {
        "id": "nOb85ORXr-kN"
      },
      "execution_count": null,
      "outputs": []
    },
    {
      "cell_type": "code",
      "source": [
        "#Add a list of names to give each row a name:\n",
        "\n",
        "import pandas as pd\n",
        "\n",
        "data = {\n",
        "  \"calories\": [420, 380, 390],\n",
        "  \"duration\": [50, 40, 45]\n",
        "}\n",
        "\n",
        "df = pd.DataFrame(data, index = [\"day1\", \"day2\", \"day3\"])\n",
        "print(df)"
      ],
      "metadata": {
        "colab": {
          "base_uri": "https://localhost:8080/"
        },
        "id": "Lv1XoO-usj4t",
        "outputId": "398ae2e6-6316-4a81-8ba6-9376ef7b426a"
      },
      "execution_count": 1,
      "outputs": [
        {
          "output_type": "stream",
          "name": "stdout",
          "text": [
            "      calories  duration\n",
            "day1       420        50\n",
            "day2       380        40\n",
            "day3       390        45\n"
          ]
        }
      ]
    },
    {
      "cell_type": "code",
      "source": [
        "  #     calories  duration\n",
        "  #day1       420        50\n",
        "  #day2       380        40\n",
        "  #day3       390        45"
      ],
      "metadata": {
        "id": "vFyx3Z4UsoRd"
      },
      "execution_count": null,
      "outputs": []
    },
    {
      "cell_type": "code",
      "source": [
        "print(df.loc[\"day2\"])  #refer to the named index:"
      ],
      "metadata": {
        "id": "_VUNDLVVsv_p"
      },
      "execution_count": null,
      "outputs": []
    },
    {
      "cell_type": "code",
      "source": [
        "import pandas as pd\n",
        "\n",
        "df = pd.read_csv('data.csv')\n",
        "\n",
        "print(df)"
      ],
      "metadata": {
        "id": "T3B_aNzmtAit"
      },
      "execution_count": null,
      "outputs": []
    },
    {
      "cell_type": "markdown",
      "source": [
        "use to_string() to print the entire DataFrame."
      ],
      "metadata": {
        "id": "mpjJMR4JuFh_"
      }
    },
    {
      "cell_type": "code",
      "source": [
        "import pandas as pd\n",
        "\n",
        "df = pd.read_csv('data.csv')\n",
        "\n",
        "print(df.to_string())"
      ],
      "metadata": {
        "id": "trY9Zq2QuFHO"
      },
      "execution_count": null,
      "outputs": []
    },
    {
      "cell_type": "markdown",
      "source": [
        "The number of rows returned is defined in Pandas option settings.\n",
        "\n",
        "You can check your system's maximum rows with the pd.options.display.max_rows statement."
      ],
      "metadata": {
        "id": "ImEE8I7TuWXW"
      }
    },
    {
      "cell_type": "code",
      "source": [
        "import pandas as pd\n",
        "\n",
        "print(pd.options.display.max_rows)"
      ],
      "metadata": {
        "id": "LZ23b-zQuWos"
      },
      "execution_count": null,
      "outputs": []
    },
    {
      "cell_type": "markdown",
      "source": [
        "In my system the number is 60, which means that if the DataFrame contains more than 60 rows, the print(df) statement will return only the headers and the first and last 5 rows.\n",
        "\n",
        "You can change the maximum rows number with the same statement."
      ],
      "metadata": {
        "id": "wqteW1ipun8L"
      }
    },
    {
      "cell_type": "code",
      "source": [
        "import pandas as pd\n",
        "\n",
        "pd.options.display.max_rows = 9999\n",
        "\n",
        "df = pd.read_csv('data.csv')\n",
        "\n",
        "print(df)"
      ],
      "metadata": {
        "id": "fDMeq08Auqtj"
      },
      "execution_count": null,
      "outputs": []
    },
    {
      "cell_type": "markdown",
      "source": [
        "**Read JSON**\n",
        "\n",
        "Big data sets are often stored, or extracted as JSON.\n",
        "\n",
        "JSON is plain text, but has the format of an object, and is well known in the world of programming, including Pandas.\n",
        "\n",
        "In our examples we will be using a JSON file called 'data.json'."
      ],
      "metadata": {
        "id": "oncDPVzDu0xv"
      }
    },
    {
      "cell_type": "markdown",
      "source": [
        "Dictionary as JSON:\n",
        "\n",
        "JSON = Python Dictionary\n",
        "\n",
        "JSON objects have the same format as Python dictionaries.\n",
        "\n",
        "If your JSON code is not in a file, but in a Python Dictionary, you can load it into a DataFrame directly:"
      ],
      "metadata": {
        "id": "2aw8Pu3GvSIy"
      }
    },
    {
      "cell_type": "code",
      "source": [
        "#Load a Python Dictionary into a DataFrame:\n",
        "\n",
        "import pandas as pd\n",
        "\n",
        "data = {\n",
        "  \"Duration\":{\n",
        "    \"0\":60,\n",
        "    \"1\":60,\n",
        "    \"2\":60,\n",
        "    \"3\":45,\n",
        "    \"4\":45,\n",
        "    \"5\":60\n",
        "  },\n",
        "  \"Pulse\":{\n",
        "    \"0\":110,\n",
        "    \"1\":117,\n",
        "    \"2\":103,\n",
        "    \"3\":109,\n",
        "    \"4\":117,\n",
        "    \"5\":102\n",
        "  },\n",
        "  \"Maxpulse\":{\n",
        "    \"0\":130,\n",
        "    \"1\":145,\n",
        "    \"2\":135,\n",
        "    \"3\":175,\n",
        "    \"4\":148,\n",
        "    \"5\":127\n",
        "  },\n",
        "  \"Calories\":{\n",
        "    \"0\":409,\n",
        "    \"1\":479,\n",
        "    \"2\":340,\n",
        "    \"3\":282,\n",
        "    \"4\":406,\n",
        "    \"5\":300\n",
        "  }\n",
        "}\n",
        "\n",
        "df = pd.DataFrame(data)\n",
        "\n",
        "print(df)"
      ],
      "metadata": {
        "id": "fMHOEJwIvycQ"
      },
      "execution_count": null,
      "outputs": []
    },
    {
      "cell_type": "markdown",
      "source": [
        "One of the most used method for getting a quick overview of the DataFrame, is the head() method.\n",
        "\n",
        "The head() method returns the headers and a specified number of rows, starting from the top."
      ],
      "metadata": {
        "id": "XAaa__COw9HY"
      }
    },
    {
      "cell_type": "code",
      "source": [
        "import pandas as pd\n",
        "\n",
        "df = pd.read_csv('data.csv')\n",
        "\n",
        "print(df.head(10))"
      ],
      "metadata": {
        "id": "TdovNOJNxB1W"
      },
      "execution_count": null,
      "outputs": []
    },
    {
      "cell_type": "markdown",
      "source": [
        " if the number of rows is not specified, the head() method will return the top 5 rows."
      ],
      "metadata": {
        "id": "cIodf8RPxCir"
      }
    },
    {
      "cell_type": "code",
      "source": [
        "import pandas as pd\n",
        "\n",
        "df = pd.read_csv('data.csv')\n",
        "\n",
        "print(df.head())"
      ],
      "metadata": {
        "id": "bTAlyjDSxNex"
      },
      "execution_count": null,
      "outputs": []
    },
    {
      "cell_type": "markdown",
      "source": [
        "There is also a tail() method for viewing the last rows of the DataFrame.\n",
        "\n",
        "The tail() method returns the headers and a specified number of rows, starting from the bottom.\n",
        "\n",
        "Example\n",
        "Print the last 5 rows of the DataFrame:\n",
        "\n"
      ],
      "metadata": {
        "id": "530_B4POxYkJ"
      }
    },
    {
      "cell_type": "code",
      "source": [
        "print(df.tail())"
      ],
      "metadata": {
        "id": "_4GblgGlxaVD"
      },
      "execution_count": null,
      "outputs": []
    },
    {
      "cell_type": "code",
      "source": [
        "#Print information about the data:\n",
        "\n",
        "print(df.info())"
      ],
      "metadata": {
        "id": "pI6_mTXBxfC2"
      },
      "execution_count": null,
      "outputs": []
    },
    {
      "cell_type": "markdown",
      "source": [
        "The **info()** method also tells us how many Non-Null values there are present in each column, and in our data set it seems like there are 164 of 169 Non-Null values in the \"Calories\" column."
      ],
      "metadata": {
        "id": "XwTGpuRVyH4E"
      }
    },
    {
      "cell_type": "markdown",
      "source": [
        "Data Cleaning\n",
        "\n",
        "Data cleaning means fixing bad data in your data set.\n",
        "\n",
        "Bad data could be:\n",
        "\n",
        "Empty cells\n",
        "\n",
        "Data in wrong format\n",
        "\n",
        "Wrong data\n",
        "\n",
        "Duplicates"
      ],
      "metadata": {
        "id": "xSgWkIY3yR0P"
      }
    },
    {
      "cell_type": "markdown",
      "source": [
        "Remove Rows\n",
        "\n",
        "One way to deal with empty cells is to remove rows that contain empty cells.\n",
        "\n",
        "This is usually OK, since data sets can be very big, and removing a few rows will not have a big impact on the result."
      ],
      "metadata": {
        "id": "B0VjUI2tyrQQ"
      }
    },
    {
      "cell_type": "code",
      "source": [
        "import pandas as pd\n",
        "\n",
        "df = pd.read_csv('data.csv')\n",
        "\n",
        "new_df = df.dropna() # Notice in the result that some rows have been removed (row 18, 22 and 28).\n",
        "\n",
        "print(new_df.to_string())"
      ],
      "metadata": {
        "id": "DbkyZdnry07H"
      },
      "execution_count": null,
      "outputs": []
    },
    {
      "cell_type": "markdown",
      "source": [
        " By default, the **dropna()** method returns a new DataFrame, and will not change the original."
      ],
      "metadata": {
        "id": "zFAmNNNJzEyA"
      }
    },
    {
      "cell_type": "markdown",
      "source": [
        " Now, the **dropna(inplace = True)** will NOT return a new DataFrame, but it will remove all rows containing NULL values from the original DataFrame."
      ],
      "metadata": {
        "id": "YeNg7664zaDY"
      }
    },
    {
      "cell_type": "code",
      "source": [
        "#If you want to change the original DataFrame, use the inplace = True argument:\n",
        "\n",
        "\n",
        "import pandas as pd\n",
        "\n",
        "df = pd.read_csv('data.csv')\n",
        "\n",
        "df.dropna(inplace = True)\n",
        "\n",
        "print(df.to_string())"
      ],
      "metadata": {
        "id": "d1J9VQWdzPVn"
      },
      "execution_count": null,
      "outputs": []
    },
    {
      "cell_type": "code",
      "source": [
        "#The fillna() method allows us to replace empty cells with a value:\n",
        "\n",
        "\n",
        "\n",
        "import pandas as pd\n",
        "\n",
        "df = pd.read_csv('data.csv')\n",
        "\n",
        "df.fillna(130, inplace = True)\n",
        "\n",
        "#Replace NULL values in the \"Calories\" columns with the number 130:\n",
        "\n",
        "import pandas as pd\n",
        "\n",
        "df = pd.read_csv('data.csv')\n",
        "\n",
        "df[\"Calories\"].fillna(130, inplace = True)"
      ],
      "metadata": {
        "colab": {
          "base_uri": "https://localhost:8080/",
          "height": 106
        },
        "id": "Nrbh84iOzsqG",
        "outputId": "7470b2ab-81f5-4de8-cfac-93174dd1c079"
      },
      "execution_count": 2,
      "outputs": [
        {
          "output_type": "error",
          "ename": "SyntaxError",
          "evalue": "invalid syntax (<ipython-input-2-645bdc9ef046>, line 1)",
          "traceback": [
            "\u001b[0;36m  File \u001b[0;32m\"<ipython-input-2-645bdc9ef046>\"\u001b[0;36m, line \u001b[0;32m1\u001b[0m\n\u001b[0;31m    The fillna() method allows us to replace empty cells with a value:\u001b[0m\n\u001b[0m        ^\u001b[0m\n\u001b[0;31mSyntaxError\u001b[0m\u001b[0;31m:\u001b[0m invalid syntax\n"
          ]
        }
      ]
    },
    {
      "cell_type": "code",
      "source": [
        "#Pandas uses the mean() median() and mode() methods to calculate the respective values for a specified column:\n",
        "#Median = the value in the middle, after you have sorted all values ascending.\n",
        "#Mode = the value that appears most frequently.\n",
        "import pandas as pd\n",
        "\n",
        "df = pd.read_csv('data.csv')\n",
        "\n",
        "x = df[\"Calories\"].mean()\n",
        "\n",
        "df[\"Calories\"].fillna(x, inplace = True)"
      ],
      "metadata": {
        "id": "rj4X3nG40RIk"
      },
      "execution_count": null,
      "outputs": []
    },
    {
      "cell_type": "markdown",
      "source": [
        "**Data of Wrong Format**\n",
        "\n",
        "Pandas has a to_datetime() method for this:\n",
        "\n",
        "ExampleGet your own Python Server\n",
        "Convert to date:\n"
      ],
      "metadata": {
        "id": "wOm0C3zn08EF"
      }
    },
    {
      "cell_type": "code",
      "source": [
        "\n",
        "import pandas as pd\n",
        "\n",
        "df = pd.read_csv('data.csv')\n",
        "\n",
        "df['Date'] = pd.to_datetime(df['Date'])\n",
        "\n",
        "print(df.to_string())"
      ],
      "metadata": {
        "id": "LtqdjnTn07sA"
      },
      "execution_count": null,
      "outputs": []
    },
    {
      "cell_type": "code",
      "source": [
        "#Remove rows with a NULL value in the \"Date\" column:\n",
        "\n",
        "df.dropna(subset=['Date'], inplace = True)"
      ],
      "metadata": {
        "id": "I2wtwg3Q1i36"
      },
      "execution_count": null,
      "outputs": []
    },
    {
      "cell_type": "markdown",
      "source": [
        "If you take a look at our data set, you can see that in row 7, the duration is 450, but for all the other rows the duration is between 30 and 60.\n",
        "\n",
        "It doesn't have to be wrong, but taking in consideration that this is the data set of someone's workout sessions, we conclude with the fact that this person did not work out in 450 minutes.\n",
        "\n",
        "Set \"Duration\" = 45 in row 7:\n",
        "\n"
      ],
      "metadata": {
        "id": "gus4A5m13KHR"
      }
    },
    {
      "cell_type": "code",
      "source": [
        "df.loc[7, 'Duration'] = 45"
      ],
      "metadata": {
        "id": "SMzx6gZE3LwX"
      },
      "execution_count": null,
      "outputs": []
    },
    {
      "cell_type": "markdown",
      "source": [
        "To replace wrong data for larger data sets you can create some rules, e.g. set some boundaries for legal values, and replace any values that are outside of the boundaries.\n",
        "\n",
        "Loop through all values in the \"Duration\" column.\n",
        "\n",
        "If the value is higher than 120, set it to 120:"
      ],
      "metadata": {
        "id": "ZLyTvHJ93Z8X"
      }
    },
    {
      "cell_type": "code",
      "source": [
        "for x in df.index:\n",
        "  if df.loc[x, \"Duration\"] > 120:\n",
        "    df.loc[x, \"Duration\"] = 120"
      ],
      "metadata": {
        "id": "DRix9FjQ3dd3"
      },
      "execution_count": null,
      "outputs": []
    },
    {
      "cell_type": "code",
      "source": [
        "# Delete rows where \"Duration\" is higher than 120:\n",
        "\n",
        "for x in df.index:\n",
        "  if df.loc[x, \"Duration\"] > 120:\n",
        "    df.drop(x, inplace = True)"
      ],
      "metadata": {
        "id": "XzyL2mbZ3nFf"
      },
      "execution_count": null,
      "outputs": []
    },
    {
      "cell_type": "markdown",
      "source": [
        "Returns True for every row that is a duplicate, otherwise False:\n",
        "\n"
      ],
      "metadata": {
        "id": "h74MBFfr3mwH"
      }
    },
    {
      "cell_type": "code",
      "source": [
        "print(df.duplicated())"
      ],
      "metadata": {
        "id": "Tv91pUhh3w6g"
      },
      "execution_count": null,
      "outputs": []
    },
    {
      "cell_type": "markdown",
      "source": [
        "The (inplace = True) will make sure that the method does NOT return a new DataFrame, but it will remove all duplicates from the original DataFrame."
      ],
      "metadata": {
        "id": "T4n5fv8b39EI"
      }
    },
    {
      "cell_type": "code",
      "source": [
        "#Remove all duplicates:\n",
        "\n",
        "df.drop_duplicates(inplace = True)"
      ],
      "metadata": {
        "id": "jMCibC1e31Qo"
      },
      "execution_count": null,
      "outputs": []
    },
    {
      "cell_type": "markdown",
      "source": [
        "Finding **Relationships**\n",
        "\n",
        "Show the relationship between the columns:\n",
        "\n",
        "corr() method ignores \"not numeric\" columns."
      ],
      "metadata": {
        "id": "hUcdUjUV4CcC"
      }
    },
    {
      "cell_type": "code",
      "source": [
        "\n",
        "\n",
        "df.corr()"
      ],
      "metadata": {
        "id": "7H0p7qsn4Fmg"
      },
      "execution_count": null,
      "outputs": []
    },
    {
      "cell_type": "markdown",
      "source": [
        "The Result of the corr() method is a table with a lot of numbers that represents how well the relationship is between two columns.\n",
        "\n",
        "The number varies from -1 to 1.\n",
        "\n",
        "1 means that there is a 1 to 1 relationship (a perfect correlation), and for this data set, each time a value went up in the first column, the other one went up as well.\n",
        "\n",
        "0.9 is also a good relationship, and if you increase one value, the other will probably increase as well.\n",
        "\n",
        "-0.9 would be just as good relationship as 0.9, but if you increase one value, the other will probably go down.\n",
        "\n",
        "0.2 means NOT a good relationship, meaning that if one value goes up does not mean that the other will."
      ],
      "metadata": {
        "id": "F6lSCdZA4aJ_"
      }
    },
    {
      "cell_type": "markdown",
      "source": [
        "**What is a good correlation? It depends on the use, but I think it is safe to say you have to have at least 0.6 (or -0.6) to call it a good correlation.**"
      ],
      "metadata": {
        "id": "AzhYqBaj41p2"
      }
    }
  ]
}